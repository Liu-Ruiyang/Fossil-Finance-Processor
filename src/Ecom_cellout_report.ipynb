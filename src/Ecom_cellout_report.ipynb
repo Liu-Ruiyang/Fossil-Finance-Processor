{
 "cells": [
  {
   "cell_type": "code",
   "execution_count": 4,
   "id": "vietnamese-civilian",
   "metadata": {
    "ExecuteTime": {
     "end_time": "2021-03-11T03:55:50.738576Z",
     "start_time": "2021-03-11T03:55:50.731591Z"
    }
   },
   "outputs": [],
   "source": [
    "import os\n",
    "import pandas as pd\n",
    "import numpy as np\n",
    "import natsort\n",
    "pd.set_option('display.max_rows', None)\n",
    "from decimal import *\n",
    "getcontext().prec = 2\n",
    "\n",
    "from tkinter  import * \n",
    "import tkinter as tk\n",
    "import tkinter.messagebox as messagebox\n",
    "from functools import partial\n",
    "\n",
    "import gspread\n",
    "from oauth2client.service_account import ServiceAccountCredentials\n",
    "import math\n",
    "import time"
   ]
  },
  {
   "cell_type": "code",
   "execution_count": 5,
   "id": "quarterly-reduction",
   "metadata": {
    "ExecuteTime": {
     "end_time": "2021-03-11T03:55:51.538630Z",
     "start_time": "2021-03-11T03:55:51.531648Z"
    }
   },
   "outputs": [],
   "source": [
    "STORE_MAP = {\n",
    "    '-Fossil Tmall domestic watch flagship store' : 'Fossilwatch',\n",
    "    '-Fossil Tmall domestic Leather flagship store' : 'Fossilleather',\n",
    "    '-Fossil Tmall International Store ' : 'Fossil Tmall Intl.',\n",
    "    '-Emporio Armani Tmall domestic watch flagship store' : 'EAwatch',\n",
    "    '-Emporio Armani Tmall domestic jewelry flagship store' : 'EAJewelry',\n",
    "    '-Emporio Armani Tmall international watch flagship store' : 'EA Tmall Intl.',\n",
    "    '-Diesel Tmall domestic watch flagship store' : 'DZ',\n",
    "    '-Diesel Tmall international watch flagship store' : 'DZ Tmall Intl.',\n",
    "    '-Michael Kors Tmall domestic watch flagship store' : 'MK',\n",
    "    '-Michael Kors Tmall international watch flagship store' : 'MK Tmall Intl.',\n",
    "    '-AX Tmall domestic watch flagship store' : 'AX',\n",
    "    '-AX Tmall international watch flagship store' : 'AX Tmall Intl.',\n",
    "    '-Skagen Tmall domestic watch flagship store' : 'Skagen',\n",
    "    '-Puma Tmall domestic watch flagship store':'Puma',\n",
    "    '-Kate Spade Tmall domestic watch flagship store': 'Kate Spade',\n",
    "    '-WSI Tmall domestic watch flagship store' : 'WSI',\n",
    "    '-WSI Tmall international watch flagship store': 'WSI Tmall Intl.',\n",
    "    'TOTAL WSI WECHAT STORE - DIRECT' : 'WSI Wechat Store'\n",
    "}\n",
    "STORE_DICT = dict(zip(STORE_MAP.values(), STORE_MAP.keys()))"
   ]
  },
  {
   "cell_type": "code",
   "execution_count": 6,
   "id": "dominican-interim",
   "metadata": {
    "ExecuteTime": {
     "end_time": "2021-03-11T03:55:52.717684Z",
     "start_time": "2021-03-11T03:55:52.708706Z"
    }
   },
   "outputs": [],
   "source": [
    "DATE_MAP = {\n",
    "    'P1' : [1,2,3,4],\n",
    "    'P2' : [5,6,7,8],\n",
    "    'P3' : [9,10,11,12,13],\n",
    "    'P4' : [14,15,16,17],\n",
    "    'P5' : [18,19,20,21],\n",
    "    'P6' : [22,23,24,25,26],\n",
    "    'P7' : [27,28,29,30],\n",
    "    'P8' : [31,32,33,34],\n",
    "    'P9' : [35,36,37,38,39],\n",
    "    'P10': [40,41,42,43],\n",
    "    'P11': [44,45,46,47],\n",
    "    'P12': [48,49,50,51,52]\n",
    "}"
   ]
  },
  {
   "cell_type": "code",
   "execution_count": 7,
   "id": "numerous-return",
   "metadata": {
    "ExecuteTime": {
     "end_time": "2021-03-11T03:55:55.624968Z",
     "start_time": "2021-03-11T03:55:55.619982Z"
    }
   },
   "outputs": [],
   "source": [
    "def week_to_p(wk):\n",
    "    for p in DATE_MAP:\n",
    "        if wk in DATE_MAP.get(p):\n",
    "            return p"
   ]
  },
  {
   "cell_type": "code",
   "execution_count": 9,
   "id": "executive-internet",
   "metadata": {
    "ExecuteTime": {
     "end_time": "2021-03-11T03:57:16.757707Z",
     "start_time": "2021-03-11T03:57:12.948787Z"
    }
   },
   "outputs": [
    {
     "data": {
      "text/plain": [
       "'Fossil Total'"
      ]
     },
     "execution_count": 9,
     "metadata": {},
     "output_type": "execute_result"
    }
   ],
   "source": [
    "from __future__ import print_function\n",
    "import pickle\n",
    "import os.path\n",
    "from googleapiclient.discovery import build\n",
    "from google_auth_oauthlib.flow import InstalledAppFlow\n",
    "from google.auth.transport.requests import Request\n",
    "from google.oauth2 import service_account\n",
    "# If modifying these scopes, delete the file token.pickle.\n",
    "SCOPES = ['https://www.googleapis.com/auth/spreadsheets']\n",
    "# The ID and range of a sample spreadsheet.\n",
    "sheetid = '1S6dgcPNrU18_8xB7LJVfSUpJekKTP08yhJwomQbHmlY'\n",
    "p = week_to_p(27)\n",
    "letter = 'B'\n",
    "RANGE = '2021 ' + p + '!' + letter + '5:' + letter + '5'\n",
    "SERVICE_ACCOUNT_FILE = 'mycredentials.json'\n",
    "credentials = None\n",
    "credentials = service_account.Credentials.from_service_account_file(\n",
    "    SERVICE_ACCOUNT_FILE, scopes=SCOPES)\n",
    "\n",
    "service = build('sheets', 'v4', credentials=credentials)\n",
    "\n",
    "# Call the Sheets API\n",
    "sheet = service.spreadsheets()\n",
    "# result = sheet.values().get(spreadsheetId=sheetid, range=RANGE).execute()\n",
    "\n",
    "store_cell = '2021 ' + p + '!A' + str(8)+ ':A' + str(8)\n",
    "result = sheet.values().get(spreadsheetId=sheetid, range=store_cell).execute()\n",
    "values = result.get('values', [])\n",
    "store = values[0][0]\n",
    "store"
   ]
  },
  {
   "cell_type": "code",
   "execution_count": 10,
   "id": "higher-bullet",
   "metadata": {
    "ExecuteTime": {
     "end_time": "2021-03-11T03:57:55.316559Z",
     "start_time": "2021-03-11T03:57:55.307583Z"
    }
   },
   "outputs": [],
   "source": [
    "from __future__ import print_function\n",
    "import pickle\n",
    "import os.path\n",
    "from googleapiclient.discovery import build\n",
    "from google_auth_oauthlib.flow import InstalledAppFlow\n",
    "from google.auth.transport.requests import Request\n",
    "from google.oauth2 import service_account\n",
    "\n",
    "\n",
    "def update_sheet(cell,value,p):\n",
    "    SCOPES = ['https://www.googleapis.com/auth/spreadsheets']\n",
    "    # The ID and range of a sample spreadsheet.\n",
    "    sheetid = '1S6dgcPNrU18_8xB7LJVfSUpJekKTP08yhJwomQbHmlY'\n",
    "    RANGE = '2021 '+p+'!A5:O117'\n",
    "\n",
    "    SERVICE_ACCOUNT_FILE = 'mycredentials.json'\n",
    "    credentials = None\n",
    "    credentials = service_account.Credentials.from_service_account_file(\n",
    "        SERVICE_ACCOUNT_FILE, scopes=SCOPES)\n",
    "\n",
    "    service = build('sheets', 'v4', credentials=credentials)\n",
    "\n",
    "    # Call the Sheets API\n",
    "    sheet = service.spreadsheets()\n",
    "    result = sheet.values().get(spreadsheetId=sheetid, range=RANGE).execute()\n",
    "    values = result.get('values', [])\n",
    "    #     print(values)\n",
    "    if math.isnan(value):\n",
    "        value = 0\n",
    "    values = [[value]]\n",
    "    \n",
    "    body = {'values': values}\n",
    "    request = sheet.values().update(spreadsheetId=sheetid,\n",
    "                                    range=cell,\n",
    "                                    valueInputOption='USER_ENTERED',\n",
    "                                    body=body)\n",
    "    response = request.execute()\n",
    "\n",
    "    # TODO: Change code below to process the `response` dict:\n",
    "    print(response)"
   ]
  },
  {
   "cell_type": "code",
   "execution_count": 17,
   "id": "quarterly-process",
   "metadata": {
    "ExecuteTime": {
     "end_time": "2021-03-11T05:58:08.511090Z",
     "start_time": "2021-03-11T05:58:08.497123Z"
    }
   },
   "outputs": [],
   "source": [
    "def update_wk(wk_num):\n",
    "    SCOPES = ['https://www.googleapis.com/auth/spreadsheets']\n",
    "    # The ID and range of a sample spreadsheet.\n",
    "    sheetid = '1S6dgcPNrU18_8xB7LJVfSUpJekKTP08yhJwomQbHmlY'\n",
    "    p = week_to_p(wk_num)\n",
    "\n",
    "    SERVICE_ACCOUNT_FILE = 'mycredentials.json'\n",
    "    credentials = None\n",
    "    credentials = service_account.Credentials.from_service_account_file(\n",
    "        SERVICE_ACCOUNT_FILE, scopes=SCOPES)\n",
    "\n",
    "    service = build('sheets', 'v4', credentials=credentials)\n",
    "\n",
    "    # Call the Sheets API\n",
    "    sheet = service.spreadsheets()\n",
    "\n",
    "    file_21 = pd.read_excel('../../test/Direct draft for Ruiyang.xlsx',\n",
    "                            sheet_name='21',\n",
    "                            nrows=20)\n",
    "    file_20 = pd.read_excel('../../test/Direct draft for Ruiyang.xlsx',\n",
    "                            sheet_name='20',\n",
    "                            nrows=20)\n",
    "\n",
    "    df21 = pd.DataFrame(file_21)\n",
    "    df20 = pd.DataFrame(file_20)\n",
    "\n",
    "    for i in range(8, 40):\n",
    "        store_cell = '2021 '+p+'!A' + str(i) + ':A' + str(i)\n",
    "        #         count_cell = '2021 P2!E' + str(i) + ':E' + str(i)\n",
    "        result = sheet.values().get(spreadsheetId=sheetid,\n",
    "                                    range=store_cell).execute()\n",
    "        values = result.get('values', [])\n",
    "        store = values[0][0]\n",
    "        \n",
    "        if store in STORE_MAP:\n",
    "            offline_store = STORE_MAP[store]\n",
    "            index = df21[df21['2021 Net Sales'] == offline_store].index[0]\n",
    "\n",
    "            #             need to update online file from B to E or F\n",
    "            five_wk_p = ['P3', 'P6', 'P9', 'P12']\n",
    "            if p in five_wk_p:\n",
    "                column_letter = ['B', 'C', 'D', 'E', 'F']\n",
    "            else:\n",
    "                column_letter = ['B', 'C', 'D', 'E']\n",
    "            for letter in column_letter:\n",
    "                wk_cell = '2021 '+p+'!'+letter+'5:'+letter+'5'\n",
    "                temp_result = sheet.values().get(spreadsheetId=sheetid,\n",
    "                                                 range=wk_cell).execute()\n",
    "                temp_values = temp_result.get('values', [])\n",
    "                wk = temp_values[0][0]\n",
    "                # parameter wk is from online sheet.\\\n",
    "                if wk in df21:\n",
    "                    count = df21[wk][index]\n",
    "                    count_cell = '2021 ' + p + '!' + letter + str(\n",
    "                        i) + ':' + letter + str(i)\n",
    "                    update_sheet(count_cell, count, p)\n",
    "                else:\n",
    "                    continue\n",
    "        time.sleep(5)"
   ]
  },
  {
   "cell_type": "code",
   "execution_count": 18,
   "id": "together-worse",
   "metadata": {
    "ExecuteTime": {
     "end_time": "2021-03-11T05:58:09.148556Z",
     "start_time": "2021-03-11T05:58:09.129580Z"
    }
   },
   "outputs": [],
   "source": [
    "'''\n",
    "Also need 2021 QTD, and 2020 MTD QTD\n",
    "Directly import value of these from local file, value is counted by excel.\n",
    "2021 MTD is not needed, because it can be counted directly from online sheet.\n",
    "'''\n",
    "\n",
    "def update_td(wk_num):\n",
    "    SCOPES = ['https://www.googleapis.com/auth/spreadsheets']\n",
    "    # The ID and range of a sample spreadsheet.\n",
    "    sheetid = '1S6dgcPNrU18_8xB7LJVfSUpJekKTP08yhJwomQbHmlY'\n",
    "    p = week_to_p(wk_num)\n",
    "\n",
    "    SERVICE_ACCOUNT_FILE = 'mycredentials.json'\n",
    "    credentials = None\n",
    "    credentials = service_account.Credentials.from_service_account_file(\n",
    "        SERVICE_ACCOUNT_FILE, scopes=SCOPES)\n",
    "\n",
    "    service = build('sheets', 'v4', credentials=credentials)\n",
    "\n",
    "    # Call the Sheets API\n",
    "    sheet = service.spreadsheets()\n",
    "\n",
    "    file_21 = pd.read_excel('../../test/Direct draft for Ruiyang.xlsx',sheet_name = '21',nrows = 20)\n",
    "    file_20 = pd.read_excel('../../test/Direct draft for Ruiyang.xlsx',sheet_name = '20',nrows = 20)\n",
    "\n",
    "    df21 = pd.DataFrame(file_21)\n",
    "    df20 = pd.DataFrame(file_20)\n",
    "\n",
    "    five_wk_p = ['P3', 'P6', 'P9', 'P12']\n",
    "    if p in five_wk_p:\n",
    "        col_21_qtd = 'J'\n",
    "        col_21_mtd = 'G'\n",
    "        col_20_qtd = 'K'\n",
    "        col_20_mtd = 'H'\n",
    "        col_21_ytd = 'M'\n",
    "        col_20_ytd = 'N'\n",
    "    else:\n",
    "        col_21_qtd = 'I'\n",
    "        col_21_mtd = 'F'\n",
    "        col_20_qtd = 'J'\n",
    "        col_20_mtd = 'G'\n",
    "        col_21_ytd = 'L'\n",
    "        col_20_ytd = 'M'\n",
    "    for i in range(8,40):\n",
    "        store_cell = '2021 '+p+'!A' + str(i) + ':A' + str(i)\n",
    "        result = sheet.values().get(spreadsheetId=sheetid, range=store_cell).execute()\n",
    "        values = result.get('values', [])\n",
    "        store = values[0][0]\n",
    "        if store in STORE_MAP:\n",
    "            offline_store = STORE_MAP[store]\n",
    "            index_21 = df21[df21['2021 Net Sales'] == offline_store].index[0]\n",
    "            index_20 = df20[df20['2020 Net Sales'] == offline_store].index[0]\n",
    "            # first, update 2021 QTD\n",
    "            count_qtd_21 = df21['QTD'][index_21]\n",
    "            # 2021 QTD cell supose to always be in cell I? NONO\n",
    "            # Need to find the column of MTD and QTD.\n",
    "            # If P include 5 wk, then 21 QTD column is J, if not, I.\n",
    "            \n",
    "            qtd_21_cell = '2021 '+p+'!'+col_21_qtd+str(i)+':'+col_21_qtd+str(i)\n",
    "            update_sheet(qtd_21_cell, count_qtd_21,p)\n",
    "            \n",
    "            # then, update 2020 MTD,QTD\n",
    "            count_mtd_20 = df20['MTD'][index_20]\n",
    "            count_qtd_20 = df20['QTD'][index_20]\n",
    "            \n",
    "            mtd_20_cell = '2021 '+p+'!'+col_20_mtd+str(i)+':'+col_20_mtd+str(i)\n",
    "            qtd_20_cell = '2021 '+p+'!'+col_20_qtd+str(i)+':'+col_20_qtd+str(i)\n",
    "            update_sheet(mtd_20_cell, count_mtd_20,p)\n",
    "            update_sheet(qtd_20_cell, count_qtd_20,p)\n",
    "            \n",
    "            # update 2021 and 2020 YTD\n",
    "            count_21_cell = df['YTD'][index_21]\n",
    "            count_20_cell = df['YTD'][index_20]\n",
    "            \n",
    "            ytd_21_cell = '2021 '+p+'!'+col_21_ytd+str(i)+':'+col_21_ytd+str(i)\n",
    "            ytd_20_cell = '2021 '+p+'!'+col_20_ytd+str(i)+':'+col_20_ytd+str(i)\n",
    "            update_sheet(ytd_21_cell, count_ytd_21,p)\n",
    "            update_sheet(ytd_20_cell, count_ytd_20,p)\n",
    "        time.sleep(5)"
   ]
  },
  {
   "cell_type": "code",
   "execution_count": 22,
   "id": "alternate-butler",
   "metadata": {
    "ExecuteTime": {
     "end_time": "2021-03-11T05:59:10.656844Z",
     "start_time": "2021-03-11T05:58:54.586393Z"
    },
    "collapsed": true
   },
   "outputs": [
    {
     "name": "stdout",
     "output_type": "stream",
     "text": [
      "{'spreadsheetId': '1S6dgcPNrU18_8xB7LJVfSUpJekKTP08yhJwomQbHmlY', 'updatedRange': \"'2021 P7'!B9\", 'updatedRows': 1, 'updatedColumns': 1, 'updatedCells': 1}\n"
     ]
    },
    {
     "ename": "KeyboardInterrupt",
     "evalue": "",
     "output_type": "error",
     "traceback": [
      "\u001b[1;31m---------------------------------------------------------------------------\u001b[0m",
      "\u001b[1;31mKeyboardInterrupt\u001b[0m                         Traceback (most recent call last)",
      "\u001b[1;32m<ipython-input-22-14c8f9a4a750>\u001b[0m in \u001b[0;36m<module>\u001b[1;34m\u001b[0m\n\u001b[0;32m      1\u001b[0m \u001b[1;31m# Test for wk\u001b[0m\u001b[1;33m\u001b[0m\u001b[1;33m\u001b[0m\u001b[1;33m\u001b[0m\u001b[0m\n\u001b[1;32m----> 2\u001b[1;33m \u001b[0mupdate_wk\u001b[0m\u001b[1;33m(\u001b[0m\u001b[1;36m27\u001b[0m\u001b[1;33m)\u001b[0m\u001b[1;33m\u001b[0m\u001b[1;33m\u001b[0m\u001b[0m\n\u001b[0m",
      "\u001b[1;32m<ipython-input-17-228517c2d6ea>\u001b[0m in \u001b[0;36mupdate_wk\u001b[1;34m(wk_num)\u001b[0m\n\u001b[0;32m     57\u001b[0m                 \u001b[1;32melse\u001b[0m\u001b[1;33m:\u001b[0m\u001b[1;33m\u001b[0m\u001b[1;33m\u001b[0m\u001b[0m\n\u001b[0;32m     58\u001b[0m                     \u001b[1;32mcontinue\u001b[0m\u001b[1;33m\u001b[0m\u001b[1;33m\u001b[0m\u001b[0m\n\u001b[1;32m---> 59\u001b[1;33m         \u001b[0mtime\u001b[0m\u001b[1;33m.\u001b[0m\u001b[0msleep\u001b[0m\u001b[1;33m(\u001b[0m\u001b[1;36m5\u001b[0m\u001b[1;33m)\u001b[0m\u001b[1;33m\u001b[0m\u001b[1;33m\u001b[0m\u001b[0m\n\u001b[0m",
      "\u001b[1;31mKeyboardInterrupt\u001b[0m: "
     ]
    }
   ],
   "source": [
    "# Test for wk\n",
    "update_wk(27)"
   ]
  },
  {
   "cell_type": "code",
   "execution_count": 20,
   "id": "academic-worse",
   "metadata": {
    "ExecuteTime": {
     "end_time": "2021-03-11T05:58:11.110107Z",
     "start_time": "2021-03-11T05:58:11.106117Z"
    }
   },
   "outputs": [],
   "source": [
    "# Test for td\n",
    "# update_td(27)"
   ]
  },
  {
   "cell_type": "code",
   "execution_count": 23,
   "id": "affecting-project",
   "metadata": {
    "ExecuteTime": {
     "end_time": "2021-03-11T06:01:05.573108Z",
     "start_time": "2021-03-11T05:59:49.355488Z"
    }
   },
   "outputs": [
    {
     "name": "stdout",
     "output_type": "stream",
     "text": [
      "Please enter the week number: 28\n",
      "{'spreadsheetId': '1S6dgcPNrU18_8xB7LJVfSUpJekKTP08yhJwomQbHmlY', 'updatedRange': \"'2021 P7'!B9\", 'updatedRows': 1, 'updatedColumns': 1, 'updatedCells': 1}\n",
      "{'spreadsheetId': '1S6dgcPNrU18_8xB7LJVfSUpJekKTP08yhJwomQbHmlY', 'updatedRange': \"'2021 P7'!B10\", 'updatedRows': 1, 'updatedColumns': 1, 'updatedCells': 1}\n",
      "{'spreadsheetId': '1S6dgcPNrU18_8xB7LJVfSUpJekKTP08yhJwomQbHmlY', 'updatedRange': \"'2021 P7'!B11\", 'updatedRows': 1, 'updatedColumns': 1, 'updatedCells': 1}\n",
      "{'spreadsheetId': '1S6dgcPNrU18_8xB7LJVfSUpJekKTP08yhJwomQbHmlY', 'updatedRange': \"'2021 P7'!B13\", 'updatedRows': 1, 'updatedColumns': 1, 'updatedCells': 1}\n",
      "{'spreadsheetId': '1S6dgcPNrU18_8xB7LJVfSUpJekKTP08yhJwomQbHmlY', 'updatedRange': \"'2021 P7'!B14\", 'updatedRows': 1, 'updatedColumns': 1, 'updatedCells': 1}\n",
      "{'spreadsheetId': '1S6dgcPNrU18_8xB7LJVfSUpJekKTP08yhJwomQbHmlY', 'updatedRange': \"'2021 P7'!B15\", 'updatedRows': 1, 'updatedColumns': 1, 'updatedCells': 1}\n"
     ]
    },
    {
     "ename": "KeyboardInterrupt",
     "evalue": "",
     "output_type": "error",
     "traceback": [
      "\u001b[1;31m---------------------------------------------------------------------------\u001b[0m",
      "\u001b[1;31mKeyboardInterrupt\u001b[0m                         Traceback (most recent call last)",
      "\u001b[1;32m<ipython-input-23-dcf63c6f6662>\u001b[0m in \u001b[0;36m<module>\u001b[1;34m\u001b[0m\n\u001b[0;32m      6\u001b[0m \u001b[1;32mif\u001b[0m \u001b[0m__name__\u001b[0m \u001b[1;33m==\u001b[0m \u001b[1;34m\"__main__\"\u001b[0m\u001b[1;33m:\u001b[0m\u001b[1;33m\u001b[0m\u001b[1;33m\u001b[0m\u001b[0m\n\u001b[0;32m      7\u001b[0m     \u001b[0mwk\u001b[0m \u001b[1;33m=\u001b[0m \u001b[0mint\u001b[0m\u001b[1;33m(\u001b[0m\u001b[0minput\u001b[0m\u001b[1;33m(\u001b[0m\u001b[1;34m'Please enter the week number: '\u001b[0m\u001b[1;33m)\u001b[0m\u001b[1;33m)\u001b[0m\u001b[1;33m\u001b[0m\u001b[1;33m\u001b[0m\u001b[0m\n\u001b[1;32m----> 8\u001b[1;33m     \u001b[0mmain\u001b[0m\u001b[1;33m(\u001b[0m\u001b[0mwk\u001b[0m\u001b[1;33m)\u001b[0m\u001b[1;33m\u001b[0m\u001b[1;33m\u001b[0m\u001b[0m\n\u001b[0m",
      "\u001b[1;32m<ipython-input-23-dcf63c6f6662>\u001b[0m in \u001b[0;36mmain\u001b[1;34m(wk)\u001b[0m\n\u001b[0;32m      1\u001b[0m \u001b[1;31m# main function\u001b[0m\u001b[1;33m\u001b[0m\u001b[1;33m\u001b[0m\u001b[1;33m\u001b[0m\u001b[0m\n\u001b[0;32m      2\u001b[0m \u001b[1;32mdef\u001b[0m \u001b[0mmain\u001b[0m\u001b[1;33m(\u001b[0m\u001b[0mwk\u001b[0m\u001b[1;33m)\u001b[0m\u001b[1;33m:\u001b[0m\u001b[1;33m\u001b[0m\u001b[1;33m\u001b[0m\u001b[0m\n\u001b[1;32m----> 3\u001b[1;33m     \u001b[0mupdate_wk\u001b[0m\u001b[1;33m(\u001b[0m\u001b[0mwk\u001b[0m\u001b[1;33m)\u001b[0m\u001b[1;33m\u001b[0m\u001b[1;33m\u001b[0m\u001b[0m\n\u001b[0m\u001b[0;32m      4\u001b[0m     \u001b[0mupdate_td\u001b[0m\u001b[1;33m(\u001b[0m\u001b[0mwk\u001b[0m\u001b[1;33m)\u001b[0m\u001b[1;33m\u001b[0m\u001b[1;33m\u001b[0m\u001b[0m\n\u001b[0;32m      5\u001b[0m \u001b[1;33m\u001b[0m\u001b[0m\n",
      "\u001b[1;32m<ipython-input-17-228517c2d6ea>\u001b[0m in \u001b[0;36mupdate_wk\u001b[1;34m(wk_num)\u001b[0m\n\u001b[0;32m     54\u001b[0m                     count_cell = '2021 ' + p + '!' + letter + str(\n\u001b[0;32m     55\u001b[0m                         i) + ':' + letter + str(i)\n\u001b[1;32m---> 56\u001b[1;33m                     \u001b[0mupdate_sheet\u001b[0m\u001b[1;33m(\u001b[0m\u001b[0mcount_cell\u001b[0m\u001b[1;33m,\u001b[0m \u001b[0mcount\u001b[0m\u001b[1;33m,\u001b[0m \u001b[0mp\u001b[0m\u001b[1;33m)\u001b[0m\u001b[1;33m\u001b[0m\u001b[1;33m\u001b[0m\u001b[0m\n\u001b[0m\u001b[0;32m     57\u001b[0m                 \u001b[1;32melse\u001b[0m\u001b[1;33m:\u001b[0m\u001b[1;33m\u001b[0m\u001b[1;33m\u001b[0m\u001b[0m\n\u001b[0;32m     58\u001b[0m                     \u001b[1;32mcontinue\u001b[0m\u001b[1;33m\u001b[0m\u001b[1;33m\u001b[0m\u001b[0m\n",
      "\u001b[1;32m<ipython-input-10-51add8c8cd0b>\u001b[0m in \u001b[0;36mupdate_sheet\u001b[1;34m(cell, value, p)\u001b[0m\n\u001b[0;32m     19\u001b[0m         SERVICE_ACCOUNT_FILE, scopes=SCOPES)\n\u001b[0;32m     20\u001b[0m \u001b[1;33m\u001b[0m\u001b[0m\n\u001b[1;32m---> 21\u001b[1;33m     \u001b[0mservice\u001b[0m \u001b[1;33m=\u001b[0m \u001b[0mbuild\u001b[0m\u001b[1;33m(\u001b[0m\u001b[1;34m'sheets'\u001b[0m\u001b[1;33m,\u001b[0m \u001b[1;34m'v4'\u001b[0m\u001b[1;33m,\u001b[0m \u001b[0mcredentials\u001b[0m\u001b[1;33m=\u001b[0m\u001b[0mcredentials\u001b[0m\u001b[1;33m)\u001b[0m\u001b[1;33m\u001b[0m\u001b[1;33m\u001b[0m\u001b[0m\n\u001b[0m\u001b[0;32m     22\u001b[0m \u001b[1;33m\u001b[0m\u001b[0m\n\u001b[0;32m     23\u001b[0m     \u001b[1;31m# Call the Sheets API\u001b[0m\u001b[1;33m\u001b[0m\u001b[1;33m\u001b[0m\u001b[1;33m\u001b[0m\u001b[0m\n",
      "\u001b[1;32mc:\\users\\140593\\appdata\\local\\programs\\python\\python39\\lib\\site-packages\\googleapiclient\\_helpers.py\u001b[0m in \u001b[0;36mpositional_wrapper\u001b[1;34m(*args, **kwargs)\u001b[0m\n\u001b[0;32m    132\u001b[0m                 \u001b[1;32melif\u001b[0m \u001b[0mpositional_parameters_enforcement\u001b[0m \u001b[1;33m==\u001b[0m \u001b[0mPOSITIONAL_WARNING\u001b[0m\u001b[1;33m:\u001b[0m\u001b[1;33m\u001b[0m\u001b[1;33m\u001b[0m\u001b[0m\n\u001b[0;32m    133\u001b[0m                     \u001b[0mlogger\u001b[0m\u001b[1;33m.\u001b[0m\u001b[0mwarning\u001b[0m\u001b[1;33m(\u001b[0m\u001b[0mmessage\u001b[0m\u001b[1;33m)\u001b[0m\u001b[1;33m\u001b[0m\u001b[1;33m\u001b[0m\u001b[0m\n\u001b[1;32m--> 134\u001b[1;33m             \u001b[1;32mreturn\u001b[0m \u001b[0mwrapped\u001b[0m\u001b[1;33m(\u001b[0m\u001b[1;33m*\u001b[0m\u001b[0margs\u001b[0m\u001b[1;33m,\u001b[0m \u001b[1;33m**\u001b[0m\u001b[0mkwargs\u001b[0m\u001b[1;33m)\u001b[0m\u001b[1;33m\u001b[0m\u001b[1;33m\u001b[0m\u001b[0m\n\u001b[0m\u001b[0;32m    135\u001b[0m \u001b[1;33m\u001b[0m\u001b[0m\n\u001b[0;32m    136\u001b[0m         \u001b[1;32mreturn\u001b[0m \u001b[0mpositional_wrapper\u001b[0m\u001b[1;33m\u001b[0m\u001b[1;33m\u001b[0m\u001b[0m\n",
      "\u001b[1;32mc:\\users\\140593\\appdata\\local\\programs\\python\\python39\\lib\\site-packages\\googleapiclient\\discovery.py\u001b[0m in \u001b[0;36mbuild\u001b[1;34m(serviceName, version, http, discoveryServiceUrl, developerKey, model, requestBuilder, credentials, cache_discovery, cache, client_options, adc_cert_path, adc_key_path, num_retries)\u001b[0m\n\u001b[0;32m    268\u001b[0m \u001b[1;33m\u001b[0m\u001b[0m\n\u001b[0;32m    269\u001b[0m         \u001b[1;32mtry\u001b[0m\u001b[1;33m:\u001b[0m\u001b[1;33m\u001b[0m\u001b[1;33m\u001b[0m\u001b[0m\n\u001b[1;32m--> 270\u001b[1;33m             content = _retrieve_discovery_doc(\n\u001b[0m\u001b[0;32m    271\u001b[0m                 \u001b[0mrequested_url\u001b[0m\u001b[1;33m,\u001b[0m\u001b[1;33m\u001b[0m\u001b[1;33m\u001b[0m\u001b[0m\n\u001b[0;32m    272\u001b[0m                 \u001b[0mdiscovery_http\u001b[0m\u001b[1;33m,\u001b[0m\u001b[1;33m\u001b[0m\u001b[1;33m\u001b[0m\u001b[0m\n",
      "\u001b[1;32mc:\\users\\140593\\appdata\\local\\programs\\python\\python39\\lib\\site-packages\\googleapiclient\\discovery.py\u001b[0m in \u001b[0;36m_retrieve_discovery_doc\u001b[1;34m(url, http, cache_discovery, cache, developerKey, num_retries)\u001b[0m\n\u001b[0;32m    374\u001b[0m     \u001b[1;31m# Note that it will already raise an error if we don't get a 2xx response\u001b[0m\u001b[1;33m\u001b[0m\u001b[1;33m\u001b[0m\u001b[1;33m\u001b[0m\u001b[0m\n\u001b[0;32m    375\u001b[0m     \u001b[0mreq\u001b[0m \u001b[1;33m=\u001b[0m \u001b[0mHttpRequest\u001b[0m\u001b[1;33m(\u001b[0m\u001b[0mhttp\u001b[0m\u001b[1;33m,\u001b[0m \u001b[0mHttpRequest\u001b[0m\u001b[1;33m.\u001b[0m\u001b[0mnull_postproc\u001b[0m\u001b[1;33m,\u001b[0m \u001b[0mactual_url\u001b[0m\u001b[1;33m)\u001b[0m\u001b[1;33m\u001b[0m\u001b[1;33m\u001b[0m\u001b[0m\n\u001b[1;32m--> 376\u001b[1;33m     \u001b[0mresp\u001b[0m\u001b[1;33m,\u001b[0m \u001b[0mcontent\u001b[0m \u001b[1;33m=\u001b[0m \u001b[0mreq\u001b[0m\u001b[1;33m.\u001b[0m\u001b[0mexecute\u001b[0m\u001b[1;33m(\u001b[0m\u001b[0mnum_retries\u001b[0m\u001b[1;33m=\u001b[0m\u001b[0mnum_retries\u001b[0m\u001b[1;33m)\u001b[0m\u001b[1;33m\u001b[0m\u001b[1;33m\u001b[0m\u001b[0m\n\u001b[0m\u001b[0;32m    377\u001b[0m \u001b[1;33m\u001b[0m\u001b[0m\n\u001b[0;32m    378\u001b[0m     \u001b[1;32mtry\u001b[0m\u001b[1;33m:\u001b[0m\u001b[1;33m\u001b[0m\u001b[1;33m\u001b[0m\u001b[0m\n",
      "\u001b[1;32mc:\\users\\140593\\appdata\\local\\programs\\python\\python39\\lib\\site-packages\\googleapiclient\\_helpers.py\u001b[0m in \u001b[0;36mpositional_wrapper\u001b[1;34m(*args, **kwargs)\u001b[0m\n\u001b[0;32m    132\u001b[0m                 \u001b[1;32melif\u001b[0m \u001b[0mpositional_parameters_enforcement\u001b[0m \u001b[1;33m==\u001b[0m \u001b[0mPOSITIONAL_WARNING\u001b[0m\u001b[1;33m:\u001b[0m\u001b[1;33m\u001b[0m\u001b[1;33m\u001b[0m\u001b[0m\n\u001b[0;32m    133\u001b[0m                     \u001b[0mlogger\u001b[0m\u001b[1;33m.\u001b[0m\u001b[0mwarning\u001b[0m\u001b[1;33m(\u001b[0m\u001b[0mmessage\u001b[0m\u001b[1;33m)\u001b[0m\u001b[1;33m\u001b[0m\u001b[1;33m\u001b[0m\u001b[0m\n\u001b[1;32m--> 134\u001b[1;33m             \u001b[1;32mreturn\u001b[0m \u001b[0mwrapped\u001b[0m\u001b[1;33m(\u001b[0m\u001b[1;33m*\u001b[0m\u001b[0margs\u001b[0m\u001b[1;33m,\u001b[0m \u001b[1;33m**\u001b[0m\u001b[0mkwargs\u001b[0m\u001b[1;33m)\u001b[0m\u001b[1;33m\u001b[0m\u001b[1;33m\u001b[0m\u001b[0m\n\u001b[0m\u001b[0;32m    135\u001b[0m \u001b[1;33m\u001b[0m\u001b[0m\n\u001b[0;32m    136\u001b[0m         \u001b[1;32mreturn\u001b[0m \u001b[0mpositional_wrapper\u001b[0m\u001b[1;33m\u001b[0m\u001b[1;33m\u001b[0m\u001b[0m\n",
      "\u001b[1;32mc:\\users\\140593\\appdata\\local\\programs\\python\\python39\\lib\\site-packages\\googleapiclient\\http.py\u001b[0m in \u001b[0;36mexecute\u001b[1;34m(self, http, num_retries)\u001b[0m\n\u001b[0;32m    898\u001b[0m \u001b[1;33m\u001b[0m\u001b[0m\n\u001b[0;32m    899\u001b[0m         \u001b[1;31m# Handle retries for server-side errors.\u001b[0m\u001b[1;33m\u001b[0m\u001b[1;33m\u001b[0m\u001b[1;33m\u001b[0m\u001b[0m\n\u001b[1;32m--> 900\u001b[1;33m         resp, content = _retry_request(\n\u001b[0m\u001b[0;32m    901\u001b[0m             \u001b[0mhttp\u001b[0m\u001b[1;33m,\u001b[0m\u001b[1;33m\u001b[0m\u001b[1;33m\u001b[0m\u001b[0m\n\u001b[0;32m    902\u001b[0m             \u001b[0mnum_retries\u001b[0m\u001b[1;33m,\u001b[0m\u001b[1;33m\u001b[0m\u001b[1;33m\u001b[0m\u001b[0m\n",
      "\u001b[1;32mc:\\users\\140593\\appdata\\local\\programs\\python\\python39\\lib\\site-packages\\googleapiclient\\http.py\u001b[0m in \u001b[0;36m_retry_request\u001b[1;34m(http, num_retries, req_type, sleep, rand, uri, method, *args, **kwargs)\u001b[0m\n\u001b[0;32m    175\u001b[0m         \u001b[1;32mtry\u001b[0m\u001b[1;33m:\u001b[0m\u001b[1;33m\u001b[0m\u001b[1;33m\u001b[0m\u001b[0m\n\u001b[0;32m    176\u001b[0m             \u001b[0mexception\u001b[0m \u001b[1;33m=\u001b[0m \u001b[1;32mNone\u001b[0m\u001b[1;33m\u001b[0m\u001b[1;33m\u001b[0m\u001b[0m\n\u001b[1;32m--> 177\u001b[1;33m             \u001b[0mresp\u001b[0m\u001b[1;33m,\u001b[0m \u001b[0mcontent\u001b[0m \u001b[1;33m=\u001b[0m \u001b[0mhttp\u001b[0m\u001b[1;33m.\u001b[0m\u001b[0mrequest\u001b[0m\u001b[1;33m(\u001b[0m\u001b[0muri\u001b[0m\u001b[1;33m,\u001b[0m \u001b[0mmethod\u001b[0m\u001b[1;33m,\u001b[0m \u001b[1;33m*\u001b[0m\u001b[0margs\u001b[0m\u001b[1;33m,\u001b[0m \u001b[1;33m**\u001b[0m\u001b[0mkwargs\u001b[0m\u001b[1;33m)\u001b[0m\u001b[1;33m\u001b[0m\u001b[1;33m\u001b[0m\u001b[0m\n\u001b[0m\u001b[0;32m    178\u001b[0m         \u001b[1;31m# Retry on SSL errors and socket timeout errors.\u001b[0m\u001b[1;33m\u001b[0m\u001b[1;33m\u001b[0m\u001b[1;33m\u001b[0m\u001b[0m\n\u001b[0;32m    179\u001b[0m         \u001b[1;32mexcept\u001b[0m \u001b[0m_ssl_SSLError\u001b[0m \u001b[1;32mas\u001b[0m \u001b[0mssl_error\u001b[0m\u001b[1;33m:\u001b[0m\u001b[1;33m\u001b[0m\u001b[1;33m\u001b[0m\u001b[0m\n",
      "\u001b[1;32mc:\\users\\140593\\appdata\\local\\programs\\python\\python39\\lib\\site-packages\\httplib2\\__init__.py\u001b[0m in \u001b[0;36mrequest\u001b[1;34m(self, uri, method, body, headers, redirections, connection_type)\u001b[0m\n\u001b[0;32m   1706\u001b[0m                     \u001b[0mcontent\u001b[0m \u001b[1;33m=\u001b[0m \u001b[1;34mb\"\"\u001b[0m\u001b[1;33m\u001b[0m\u001b[1;33m\u001b[0m\u001b[0m\n\u001b[0;32m   1707\u001b[0m                 \u001b[1;32melse\u001b[0m\u001b[1;33m:\u001b[0m\u001b[1;33m\u001b[0m\u001b[1;33m\u001b[0m\u001b[0m\n\u001b[1;32m-> 1708\u001b[1;33m                     (response, content) = self._request(\n\u001b[0m\u001b[0;32m   1709\u001b[0m                         \u001b[0mconn\u001b[0m\u001b[1;33m,\u001b[0m \u001b[0mauthority\u001b[0m\u001b[1;33m,\u001b[0m \u001b[0muri\u001b[0m\u001b[1;33m,\u001b[0m \u001b[0mrequest_uri\u001b[0m\u001b[1;33m,\u001b[0m \u001b[0mmethod\u001b[0m\u001b[1;33m,\u001b[0m \u001b[0mbody\u001b[0m\u001b[1;33m,\u001b[0m \u001b[0mheaders\u001b[0m\u001b[1;33m,\u001b[0m \u001b[0mredirections\u001b[0m\u001b[1;33m,\u001b[0m \u001b[0mcachekey\u001b[0m\u001b[1;33m,\u001b[0m\u001b[1;33m\u001b[0m\u001b[1;33m\u001b[0m\u001b[0m\n\u001b[0;32m   1710\u001b[0m                     )\n",
      "\u001b[1;32mc:\\users\\140593\\appdata\\local\\programs\\python\\python39\\lib\\site-packages\\httplib2\\__init__.py\u001b[0m in \u001b[0;36m_request\u001b[1;34m(self, conn, host, absolute_uri, request_uri, method, body, headers, redirections, cachekey)\u001b[0m\n\u001b[0;32m   1422\u001b[0m             \u001b[0mauth\u001b[0m\u001b[1;33m.\u001b[0m\u001b[0mrequest\u001b[0m\u001b[1;33m(\u001b[0m\u001b[0mmethod\u001b[0m\u001b[1;33m,\u001b[0m \u001b[0mrequest_uri\u001b[0m\u001b[1;33m,\u001b[0m \u001b[0mheaders\u001b[0m\u001b[1;33m,\u001b[0m \u001b[0mbody\u001b[0m\u001b[1;33m)\u001b[0m\u001b[1;33m\u001b[0m\u001b[1;33m\u001b[0m\u001b[0m\n\u001b[0;32m   1423\u001b[0m \u001b[1;33m\u001b[0m\u001b[0m\n\u001b[1;32m-> 1424\u001b[1;33m         \u001b[1;33m(\u001b[0m\u001b[0mresponse\u001b[0m\u001b[1;33m,\u001b[0m \u001b[0mcontent\u001b[0m\u001b[1;33m)\u001b[0m \u001b[1;33m=\u001b[0m \u001b[0mself\u001b[0m\u001b[1;33m.\u001b[0m\u001b[0m_conn_request\u001b[0m\u001b[1;33m(\u001b[0m\u001b[0mconn\u001b[0m\u001b[1;33m,\u001b[0m \u001b[0mrequest_uri\u001b[0m\u001b[1;33m,\u001b[0m \u001b[0mmethod\u001b[0m\u001b[1;33m,\u001b[0m \u001b[0mbody\u001b[0m\u001b[1;33m,\u001b[0m \u001b[0mheaders\u001b[0m\u001b[1;33m)\u001b[0m\u001b[1;33m\u001b[0m\u001b[1;33m\u001b[0m\u001b[0m\n\u001b[0m\u001b[0;32m   1425\u001b[0m \u001b[1;33m\u001b[0m\u001b[0m\n\u001b[0;32m   1426\u001b[0m         \u001b[1;32mif\u001b[0m \u001b[0mauth\u001b[0m\u001b[1;33m:\u001b[0m\u001b[1;33m\u001b[0m\u001b[1;33m\u001b[0m\u001b[0m\n",
      "\u001b[1;32mc:\\users\\140593\\appdata\\local\\programs\\python\\python39\\lib\\site-packages\\httplib2\\__init__.py\u001b[0m in \u001b[0;36m_conn_request\u001b[1;34m(self, conn, request_uri, method, body, headers)\u001b[0m\n\u001b[0;32m   1344\u001b[0m             \u001b[1;32mtry\u001b[0m\u001b[1;33m:\u001b[0m\u001b[1;33m\u001b[0m\u001b[1;33m\u001b[0m\u001b[0m\n\u001b[0;32m   1345\u001b[0m                 \u001b[1;32mif\u001b[0m \u001b[0mconn\u001b[0m\u001b[1;33m.\u001b[0m\u001b[0msock\u001b[0m \u001b[1;32mis\u001b[0m \u001b[1;32mNone\u001b[0m\u001b[1;33m:\u001b[0m\u001b[1;33m\u001b[0m\u001b[1;33m\u001b[0m\u001b[0m\n\u001b[1;32m-> 1346\u001b[1;33m                     \u001b[0mconn\u001b[0m\u001b[1;33m.\u001b[0m\u001b[0mconnect\u001b[0m\u001b[1;33m(\u001b[0m\u001b[1;33m)\u001b[0m\u001b[1;33m\u001b[0m\u001b[1;33m\u001b[0m\u001b[0m\n\u001b[0m\u001b[0;32m   1347\u001b[0m                 \u001b[0mconn\u001b[0m\u001b[1;33m.\u001b[0m\u001b[0mrequest\u001b[0m\u001b[1;33m(\u001b[0m\u001b[0mmethod\u001b[0m\u001b[1;33m,\u001b[0m \u001b[0mrequest_uri\u001b[0m\u001b[1;33m,\u001b[0m \u001b[0mbody\u001b[0m\u001b[1;33m,\u001b[0m \u001b[0mheaders\u001b[0m\u001b[1;33m)\u001b[0m\u001b[1;33m\u001b[0m\u001b[1;33m\u001b[0m\u001b[0m\n\u001b[0;32m   1348\u001b[0m             \u001b[1;32mexcept\u001b[0m \u001b[0msocket\u001b[0m\u001b[1;33m.\u001b[0m\u001b[0mtimeout\u001b[0m\u001b[1;33m:\u001b[0m\u001b[1;33m\u001b[0m\u001b[1;33m\u001b[0m\u001b[0m\n",
      "\u001b[1;32mc:\\users\\140593\\appdata\\local\\programs\\python\\python39\\lib\\site-packages\\httplib2\\__init__.py\u001b[0m in \u001b[0;36mconnect\u001b[1;34m(self)\u001b[0m\n\u001b[0;32m   1136\u001b[0m                 \u001b[0msock\u001b[0m\u001b[1;33m.\u001b[0m\u001b[0mconnect\u001b[0m\u001b[1;33m(\u001b[0m\u001b[1;33m(\u001b[0m\u001b[0mself\u001b[0m\u001b[1;33m.\u001b[0m\u001b[0mhost\u001b[0m\u001b[1;33m,\u001b[0m \u001b[0mself\u001b[0m\u001b[1;33m.\u001b[0m\u001b[0mport\u001b[0m\u001b[1;33m)\u001b[0m\u001b[1;33m)\u001b[0m\u001b[1;33m\u001b[0m\u001b[1;33m\u001b[0m\u001b[0m\n\u001b[0;32m   1137\u001b[0m \u001b[1;33m\u001b[0m\u001b[0m\n\u001b[1;32m-> 1138\u001b[1;33m                 \u001b[0mself\u001b[0m\u001b[1;33m.\u001b[0m\u001b[0msock\u001b[0m \u001b[1;33m=\u001b[0m \u001b[0mself\u001b[0m\u001b[1;33m.\u001b[0m\u001b[0m_context\u001b[0m\u001b[1;33m.\u001b[0m\u001b[0mwrap_socket\u001b[0m\u001b[1;33m(\u001b[0m\u001b[0msock\u001b[0m\u001b[1;33m,\u001b[0m \u001b[0mserver_hostname\u001b[0m\u001b[1;33m=\u001b[0m\u001b[0mself\u001b[0m\u001b[1;33m.\u001b[0m\u001b[0mhost\u001b[0m\u001b[1;33m)\u001b[0m\u001b[1;33m\u001b[0m\u001b[1;33m\u001b[0m\u001b[0m\n\u001b[0m\u001b[0;32m   1139\u001b[0m \u001b[1;33m\u001b[0m\u001b[0m\n\u001b[0;32m   1140\u001b[0m                 \u001b[1;31m# Python 3.3 compatibility: emulate the check_hostname behavior\u001b[0m\u001b[1;33m\u001b[0m\u001b[1;33m\u001b[0m\u001b[1;33m\u001b[0m\u001b[0m\n",
      "\u001b[1;32mc:\\users\\140593\\appdata\\local\\programs\\python\\python39\\lib\\ssl.py\u001b[0m in \u001b[0;36mwrap_socket\u001b[1;34m(self, sock, server_side, do_handshake_on_connect, suppress_ragged_eofs, server_hostname, session)\u001b[0m\n\u001b[0;32m    498\u001b[0m         \u001b[1;31m# SSLSocket class handles server_hostname encoding before it calls\u001b[0m\u001b[1;33m\u001b[0m\u001b[1;33m\u001b[0m\u001b[1;33m\u001b[0m\u001b[0m\n\u001b[0;32m    499\u001b[0m         \u001b[1;31m# ctx._wrap_socket()\u001b[0m\u001b[1;33m\u001b[0m\u001b[1;33m\u001b[0m\u001b[1;33m\u001b[0m\u001b[0m\n\u001b[1;32m--> 500\u001b[1;33m         return self.sslsocket_class._create(\n\u001b[0m\u001b[0;32m    501\u001b[0m             \u001b[0msock\u001b[0m\u001b[1;33m=\u001b[0m\u001b[0msock\u001b[0m\u001b[1;33m,\u001b[0m\u001b[1;33m\u001b[0m\u001b[1;33m\u001b[0m\u001b[0m\n\u001b[0;32m    502\u001b[0m             \u001b[0mserver_side\u001b[0m\u001b[1;33m=\u001b[0m\u001b[0mserver_side\u001b[0m\u001b[1;33m,\u001b[0m\u001b[1;33m\u001b[0m\u001b[1;33m\u001b[0m\u001b[0m\n",
      "\u001b[1;32mc:\\users\\140593\\appdata\\local\\programs\\python\\python39\\lib\\ssl.py\u001b[0m in \u001b[0;36m_create\u001b[1;34m(cls, sock, server_side, do_handshake_on_connect, suppress_ragged_eofs, server_hostname, context, session)\u001b[0m\n\u001b[0;32m   1038\u001b[0m                         \u001b[1;31m# non-blocking\u001b[0m\u001b[1;33m\u001b[0m\u001b[1;33m\u001b[0m\u001b[1;33m\u001b[0m\u001b[0m\n\u001b[0;32m   1039\u001b[0m                         \u001b[1;32mraise\u001b[0m \u001b[0mValueError\u001b[0m\u001b[1;33m(\u001b[0m\u001b[1;34m\"do_handshake_on_connect should not be specified for non-blocking sockets\"\u001b[0m\u001b[1;33m)\u001b[0m\u001b[1;33m\u001b[0m\u001b[1;33m\u001b[0m\u001b[0m\n\u001b[1;32m-> 1040\u001b[1;33m                     \u001b[0mself\u001b[0m\u001b[1;33m.\u001b[0m\u001b[0mdo_handshake\u001b[0m\u001b[1;33m(\u001b[0m\u001b[1;33m)\u001b[0m\u001b[1;33m\u001b[0m\u001b[1;33m\u001b[0m\u001b[0m\n\u001b[0m\u001b[0;32m   1041\u001b[0m             \u001b[1;32mexcept\u001b[0m \u001b[1;33m(\u001b[0m\u001b[0mOSError\u001b[0m\u001b[1;33m,\u001b[0m \u001b[0mValueError\u001b[0m\u001b[1;33m)\u001b[0m\u001b[1;33m:\u001b[0m\u001b[1;33m\u001b[0m\u001b[1;33m\u001b[0m\u001b[0m\n\u001b[0;32m   1042\u001b[0m                 \u001b[0mself\u001b[0m\u001b[1;33m.\u001b[0m\u001b[0mclose\u001b[0m\u001b[1;33m(\u001b[0m\u001b[1;33m)\u001b[0m\u001b[1;33m\u001b[0m\u001b[1;33m\u001b[0m\u001b[0m\n",
      "\u001b[1;32mc:\\users\\140593\\appdata\\local\\programs\\python\\python39\\lib\\ssl.py\u001b[0m in \u001b[0;36mdo_handshake\u001b[1;34m(self, block)\u001b[0m\n\u001b[0;32m   1307\u001b[0m             \u001b[1;32mif\u001b[0m \u001b[0mtimeout\u001b[0m \u001b[1;33m==\u001b[0m \u001b[1;36m0.0\u001b[0m \u001b[1;32mand\u001b[0m \u001b[0mblock\u001b[0m\u001b[1;33m:\u001b[0m\u001b[1;33m\u001b[0m\u001b[1;33m\u001b[0m\u001b[0m\n\u001b[0;32m   1308\u001b[0m                 \u001b[0mself\u001b[0m\u001b[1;33m.\u001b[0m\u001b[0msettimeout\u001b[0m\u001b[1;33m(\u001b[0m\u001b[1;32mNone\u001b[0m\u001b[1;33m)\u001b[0m\u001b[1;33m\u001b[0m\u001b[1;33m\u001b[0m\u001b[0m\n\u001b[1;32m-> 1309\u001b[1;33m             \u001b[0mself\u001b[0m\u001b[1;33m.\u001b[0m\u001b[0m_sslobj\u001b[0m\u001b[1;33m.\u001b[0m\u001b[0mdo_handshake\u001b[0m\u001b[1;33m(\u001b[0m\u001b[1;33m)\u001b[0m\u001b[1;33m\u001b[0m\u001b[1;33m\u001b[0m\u001b[0m\n\u001b[0m\u001b[0;32m   1310\u001b[0m         \u001b[1;32mfinally\u001b[0m\u001b[1;33m:\u001b[0m\u001b[1;33m\u001b[0m\u001b[1;33m\u001b[0m\u001b[0m\n\u001b[0;32m   1311\u001b[0m             \u001b[0mself\u001b[0m\u001b[1;33m.\u001b[0m\u001b[0msettimeout\u001b[0m\u001b[1;33m(\u001b[0m\u001b[0mtimeout\u001b[0m\u001b[1;33m)\u001b[0m\u001b[1;33m\u001b[0m\u001b[1;33m\u001b[0m\u001b[0m\n",
      "\u001b[1;31mKeyboardInterrupt\u001b[0m: "
     ]
    }
   ],
   "source": [
    "# main function\n",
    "def main(wk):\n",
    "    update_wk(wk)\n",
    "    update_td(wk)\n",
    "\n",
    "if __name__ == \"__main__\":\n",
    "    wk = int(input('Please enter the week number: '))\n",
    "    main(wk)"
   ]
  },
  {
   "cell_type": "code",
   "execution_count": null,
   "id": "patent-decrease",
   "metadata": {},
   "outputs": [],
   "source": []
  }
 ],
 "metadata": {
  "kernelspec": {
   "display_name": "Python 3",
   "language": "python",
   "name": "python3"
  },
  "language_info": {
   "codemirror_mode": {
    "name": "ipython",
    "version": 3
   },
   "file_extension": ".py",
   "mimetype": "text/x-python",
   "name": "python",
   "nbconvert_exporter": "python",
   "pygments_lexer": "ipython3",
   "version": "3.9.1"
  },
  "latex_envs": {
   "LaTeX_envs_menu_present": true,
   "autoclose": false,
   "autocomplete": true,
   "bibliofile": "biblio.bib",
   "cite_by": "apalike",
   "current_citInitial": 1,
   "eqLabelWithNumbers": true,
   "eqNumInitial": 1,
   "hotkeys": {
    "equation": "Ctrl-E",
    "itemize": "Ctrl-I"
   },
   "labels_anchors": false,
   "latex_user_defs": false,
   "report_style_numbering": false,
   "user_envs_cfg": false
  },
  "varInspector": {
   "cols": {
    "lenName": 16,
    "lenType": 16,
    "lenVar": 40
   },
   "kernels_config": {
    "python": {
     "delete_cmd_postfix": "",
     "delete_cmd_prefix": "del ",
     "library": "var_list.py",
     "varRefreshCmd": "print(var_dic_list())"
    },
    "r": {
     "delete_cmd_postfix": ") ",
     "delete_cmd_prefix": "rm(",
     "library": "var_list.r",
     "varRefreshCmd": "cat(var_dic_list()) "
    }
   },
   "types_to_exclude": [
    "module",
    "function",
    "builtin_function_or_method",
    "instance",
    "_Feature"
   ],
   "window_display": false
  }
 },
 "nbformat": 4,
 "nbformat_minor": 5
}
