{
 "cells": [
  {
   "cell_type": "code",
   "execution_count": 3,
   "metadata": {
    "ExecuteTime": {
     "end_time": "2021-05-19T06:50:44.299450Z",
     "start_time": "2021-05-19T06:50:44.295406Z"
    }
   },
   "outputs": [],
   "source": [
    "import os\n",
    "import pandas as pd\n",
    "import numpy as np\n",
    "import natsort\n",
    "pd.set_option('display.max_rows', None)\n",
    "from decimal import *\n",
    "getcontext().prec = 2\n",
    "\n",
    "import math\n",
    "from tkinter import *\n",
    "import tkinter as tk\n",
    "import tkinter.messagebox as messagebox\n",
    "from functools import partial"
   ]
  },
  {
   "cell_type": "code",
   "execution_count": 4,
   "metadata": {
    "ExecuteTime": {
     "end_time": "2021-05-19T06:50:44.717026Z",
     "start_time": "2021-05-19T06:50:44.711696Z"
    }
   },
   "outputs": [],
   "source": [
    "def create_app():\n",
    "    window = tk.Tk()\n",
    "\n",
    "    L1 = Label(\n",
    "        window,\n",
    "        text=\"Username Matcher For Mandy\",\n",
    "    ).grid(row=0, column=1)\n",
    "    \n",
    "    L2 = Label(\n",
    "        window,\n",
    "        text=\"Input file path and name of file\",\n",
    "    ).grid(row=1, column=0)\n",
    "    \n",
    "\n",
    "    E1 = Entry(window, bd=5)\n",
    "    E1.grid(row=1, column=1)\n",
    "\n",
    "    B = Button(window, text=\"Submit\", command=partial(processing, E1)).grid(\n",
    "                                                          row=5,\n",
    "                                                          column=1,\n",
    "                                                      )\n",
    "    window.mainloop()"
   ]
  },
  {
   "cell_type": "code",
   "execution_count": 5,
   "metadata": {
    "ExecuteTime": {
     "end_time": "2021-05-19T06:50:46.985927Z",
     "start_time": "2021-05-19T06:50:46.982510Z"
    }
   },
   "outputs": [],
   "source": [
    "def processing(E1):\n",
    "    try:\n",
    "        # actual main()\n",
    "        file_name = E1.get()\n",
    "        check_all(file_name,\"匹配\",\"小额用户核对结果.xlsx\")\n",
    "        \n",
    "        messagebox.showinfo('Congras', 'Done!')\n",
    "    except ValueError:\n",
    "        messagebox.showinfo('Warning', 'Wrong Input Path!')"
   ]
  },
  {
   "cell_type": "code",
   "execution_count": 6,
   "metadata": {
    "ExecuteTime": {
     "end_time": "2021-05-19T06:50:47.473305Z",
     "start_time": "2021-05-19T06:50:47.469804Z"
    }
   },
   "outputs": [],
   "source": [
    "def get_data(file_name, sheet_name):\n",
    "    file = pd.read_excel(file_name, sheet_name)\n",
    "    df = pd.DataFrame(file)\n",
    "    array = np.array(df)\n",
    "    return array"
   ]
  },
  {
   "cell_type": "code",
   "execution_count": 7,
   "metadata": {
    "ExecuteTime": {
     "end_time": "2021-05-19T06:50:47.879970Z",
     "start_time": "2021-05-19T06:50:47.876326Z"
    }
   },
   "outputs": [],
   "source": [
    "def get_subname(combine):\n",
    "    if combine.find('(') == -1:\n",
    "        # only contains user, no name needed to be check\n",
    "        return \"NoName\"\n",
    "    else:\n",
    "        subname = combine.split('(')[0][-1]\n",
    "        return subname"
   ]
  },
  {
   "cell_type": "code",
   "execution_count": 8,
   "metadata": {
    "ExecuteTime": {
     "end_time": "2021-05-19T06:50:48.335350Z",
     "start_time": "2021-05-19T06:50:48.331612Z"
    }
   },
   "outputs": [],
   "source": [
    "def get_subuser(combine):\n",
    "    if combine.find('(') != -1:\n",
    "        subuser = combine.split('(')[1].split(')')[0]\n",
    "    else:\n",
    "        subuser = combine\n",
    "    return subuser"
   ]
  },
  {
   "cell_type": "code",
   "execution_count": 9,
   "metadata": {
    "ExecuteTime": {
     "end_time": "2021-05-19T06:50:48.897401Z",
     "start_time": "2021-05-19T06:50:48.894343Z"
    }
   },
   "outputs": [],
   "source": [
    "def check_name(name,subname):\n",
    "    if name[-1] == subname:\n",
    "        return True\n",
    "    else:\n",
    "        return False"
   ]
  },
  {
   "cell_type": "code",
   "execution_count": 10,
   "metadata": {
    "ExecuteTime": {
     "end_time": "2021-05-19T06:50:49.694020Z",
     "start_time": "2021-05-19T06:50:49.687933Z"
    }
   },
   "outputs": [],
   "source": [
    "def check_user(user,subuser):\n",
    "    if subuser.endswith(\".com\"):\n",
    "        # user is login with email\n",
    "        userhead = user[0:3]\n",
    "        subuserhead = user[0:3]\n",
    "        if user.endswith(\".com\"):\n",
    "            userend = user.split('@')[1]\n",
    "            subuserend = subuser.split('@')[1]\n",
    "        else:\n",
    "            return False\n",
    "        if userhead == subuserhead and userend == subuserend:\n",
    "            return True\n",
    "        else:\n",
    "            return False\n",
    "    else:\n",
    "        # user is login with tele\n",
    "        userhead = user[0:3]\n",
    "        subuserhead = user[0:3]\n",
    "        userend = subuser[-2:-1]\n",
    "        subuserend = subuser[-2:-1]\n",
    "        if userhead == subuserhead and userend == subuserend:\n",
    "            return True\n",
    "        else:\n",
    "            return False"
   ]
  },
  {
   "cell_type": "code",
   "execution_count": 11,
   "metadata": {
    "ExecuteTime": {
     "end_time": "2021-05-19T06:50:50.232459Z",
     "start_time": "2021-05-19T06:50:50.225471Z"
    }
   },
   "outputs": [],
   "source": [
    "def check_all(file_name, sheet_name,result_file):\n",
    "    array = get_data(file_name, sheet_name)\n",
    "    check_result = []\n",
    "\n",
    "    for i in range(0,len(array)):\n",
    "\n",
    "        user = array[i,3].strip()\n",
    "        name = array[i,4]\n",
    "        combine = array[i,12]\n",
    "        # combine name only one character and combine tele only first 3 and end 2 or end email;\n",
    "        subname = get_subname(combine)\n",
    "        subuser = get_subuser(combine)\n",
    "\n",
    "        if check_user(user,subuser):\n",
    "            if check_name(name, subname) == True:\n",
    "                check_result.append(\"true\")\n",
    "            else:\n",
    "                check_result.append(\"true, but no name.\")\n",
    "        else:\n",
    "            check_result.append(\"false\")\n",
    "\n",
    "    \n",
    "    file = pd.read_excel(file_name, sheet_name)\n",
    "    df = pd.DataFrame(file)\n",
    "    df[\"Check\"] = check_result\n",
    "    df.to_excel(result_file, sheet_name)\n"
   ]
  },
  {
   "cell_type": "code",
   "execution_count": 70,
   "metadata": {
    "ExecuteTime": {
     "end_time": "2021-05-17T13:18:31.849837Z",
     "start_time": "2021-05-17T13:18:31.469308Z"
    }
   },
   "outputs": [],
   "source": [
    "# check_all(\"EAG小额4.4-5.1 核对.xlsx\",\"匹配\",\"小额用户核对结果.xlsx\")"
   ]
  },
  {
   "cell_type": "code",
   "execution_count": 13,
   "metadata": {
    "ExecuteTime": {
     "end_time": "2021-05-19T06:52:32.105464Z",
     "start_time": "2021-05-19T06:51:16.182843Z"
    }
   },
   "outputs": [],
   "source": [
    "create_app()"
   ]
  },
  {
   "cell_type": "code",
   "execution_count": null,
   "metadata": {},
   "outputs": [],
   "source": []
  }
 ],
 "metadata": {
  "kernelspec": {
   "display_name": "Python 3",
   "language": "python",
   "name": "python3"
  },
  "language_info": {
   "codemirror_mode": {
    "name": "ipython",
    "version": 3
   },
   "file_extension": ".py",
   "mimetype": "text/x-python",
   "name": "python",
   "nbconvert_exporter": "python",
   "pygments_lexer": "ipython3",
   "version": "3.7.4"
  },
  "latex_envs": {
   "LaTeX_envs_menu_present": true,
   "autoclose": false,
   "autocomplete": true,
   "bibliofile": "biblio.bib",
   "cite_by": "apalike",
   "current_citInitial": 1,
   "eqLabelWithNumbers": true,
   "eqNumInitial": 1,
   "hotkeys": {
    "equation": "Ctrl-E",
    "itemize": "Ctrl-I"
   },
   "labels_anchors": false,
   "latex_user_defs": false,
   "report_style_numbering": false,
   "user_envs_cfg": false
  },
  "toc": {
   "base_numbering": 1,
   "nav_menu": {},
   "number_sections": true,
   "sideBar": true,
   "skip_h1_title": false,
   "title_cell": "Table of Contents",
   "title_sidebar": "Contents",
   "toc_cell": false,
   "toc_position": {},
   "toc_section_display": true,
   "toc_window_display": false
  },
  "varInspector": {
   "cols": {
    "lenName": 16,
    "lenType": 16,
    "lenVar": 40
   },
   "kernels_config": {
    "python": {
     "delete_cmd_postfix": "",
     "delete_cmd_prefix": "del ",
     "library": "var_list.py",
     "varRefreshCmd": "print(var_dic_list())"
    },
    "r": {
     "delete_cmd_postfix": ") ",
     "delete_cmd_prefix": "rm(",
     "library": "var_list.r",
     "varRefreshCmd": "cat(var_dic_list()) "
    }
   },
   "types_to_exclude": [
    "module",
    "function",
    "builtin_function_or_method",
    "instance",
    "_Feature"
   ],
   "window_display": false
  }
 },
 "nbformat": 4,
 "nbformat_minor": 2
}
