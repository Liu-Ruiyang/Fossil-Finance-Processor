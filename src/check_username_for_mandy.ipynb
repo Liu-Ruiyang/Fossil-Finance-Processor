{
 "cells": [
  {
   "cell_type": "code",
   "execution_count": 61,
   "metadata": {
    "ExecuteTime": {
     "end_time": "2021-05-17T13:17:54.957971Z",
     "start_time": "2021-05-17T13:17:54.954556Z"
    }
   },
   "outputs": [],
   "source": [
    "import os\n",
    "import pandas as pd\n",
    "import numpy as np\n",
    "import natsort\n",
    "pd.set_option('display.max_rows', None)\n",
    "from decimal import *\n",
    "getcontext().prec = 2\n",
    "\n",
    "import math"
   ]
  },
  {
   "cell_type": "code",
   "execution_count": 62,
   "metadata": {
    "ExecuteTime": {
     "end_time": "2021-05-17T13:17:55.293492Z",
     "start_time": "2021-05-17T13:17:55.289547Z"
    }
   },
   "outputs": [],
   "source": [
    "def get_data(file_name, sheet_name):\n",
    "    file = pd.read_excel(file_name, sheet_name)\n",
    "    df = pd.DataFrame(file)\n",
    "    array = np.array(df)\n",
    "    return array"
   ]
  },
  {
   "cell_type": "code",
   "execution_count": 63,
   "metadata": {
    "ExecuteTime": {
     "end_time": "2021-05-17T13:17:55.661584Z",
     "start_time": "2021-05-17T13:17:55.658269Z"
    }
   },
   "outputs": [],
   "source": [
    "def get_subname(combine):\n",
    "    if combine.find('(') == -1:\n",
    "        # only contains user, no name needed to be check\n",
    "        return \"NoName\"\n",
    "    else:\n",
    "        subname = combine.split('(')[0][-1]\n",
    "        return subname"
   ]
  },
  {
   "cell_type": "code",
   "execution_count": 64,
   "metadata": {
    "ExecuteTime": {
     "end_time": "2021-05-17T13:17:56.392931Z",
     "start_time": "2021-05-17T13:17:56.389444Z"
    }
   },
   "outputs": [],
   "source": [
    "def get_subuser(combine):\n",
    "    if combine.find('(') != -1:\n",
    "        subuser = combine.split('(')[1].split(')')[0]\n",
    "    else:\n",
    "        subuser = combine\n",
    "    return subuser"
   ]
  },
  {
   "cell_type": "code",
   "execution_count": 65,
   "metadata": {
    "ExecuteTime": {
     "end_time": "2021-05-17T13:17:56.802563Z",
     "start_time": "2021-05-17T13:17:56.799577Z"
    }
   },
   "outputs": [],
   "source": [
    "def check_name(name,subname):\n",
    "    if name[-1] == subname:\n",
    "        return True\n",
    "    else:\n",
    "        return False"
   ]
  },
  {
   "cell_type": "code",
   "execution_count": 66,
   "metadata": {
    "ExecuteTime": {
     "end_time": "2021-05-17T13:17:57.425404Z",
     "start_time": "2021-05-17T13:17:57.419120Z"
    }
   },
   "outputs": [],
   "source": [
    "def check_user(user,subuser):\n",
    "    if subuser.endswith(\".com\"):\n",
    "        # user is login with email\n",
    "        userhead = user[0:3]\n",
    "        subuserhead = user[0:3]\n",
    "        if user.endswith(\".com\"):\n",
    "            userend = user.split('@')[1]\n",
    "            subuserend = subuser.split('@')[1]\n",
    "        else:\n",
    "            return False\n",
    "        if userhead == subuserhead and userend == subuserend:\n",
    "            return True\n",
    "        else:\n",
    "            return False\n",
    "    else:\n",
    "        # user is login with tele\n",
    "        userhead = user[0:3]\n",
    "        subuserhead = user[0:3]\n",
    "        userend = subuser[-2:-1]\n",
    "        subuserend = subuser[-2:-1]\n",
    "        if userhead == subuserhead and userend == subuserend:\n",
    "            return True\n",
    "        else:\n",
    "            return False"
   ]
  },
  {
   "cell_type": "code",
   "execution_count": 69,
   "metadata": {
    "ExecuteTime": {
     "end_time": "2021-05-17T13:18:30.679323Z",
     "start_time": "2021-05-17T13:18:30.672975Z"
    }
   },
   "outputs": [],
   "source": [
    "def processing(file_name, sheet_name,result_file):\n",
    "    array = get_data(file_name, sheet_name)\n",
    "    check_result = []\n",
    "\n",
    "    for i in range(0,len(array)):\n",
    "\n",
    "        user = array[i,3].strip()\n",
    "        name = array[i,4]\n",
    "        combine = array[i,12]\n",
    "        # combine name only one character and combine tele only first 3 and end 2 or end email;\n",
    "        subname = get_subname(combine)\n",
    "        subuser = get_subuser(combine)\n",
    "\n",
    "        if check_user(user,subuser):\n",
    "            if check_name(name, subname) == True:\n",
    "                check_result.append(\"true\")\n",
    "            else:\n",
    "                check_result.append(\"true, but no name.\")\n",
    "        else:\n",
    "            check_result.append(\"false\")\n",
    "\n",
    "    \n",
    "    file = pd.read_excel(file_name, sheet_name)\n",
    "    df = pd.DataFrame(file)\n",
    "    df[\"Check\"] = check_result\n",
    "    df.to_excel(result_file, sheet_name)\n"
   ]
  },
  {
   "cell_type": "code",
   "execution_count": 70,
   "metadata": {
    "ExecuteTime": {
     "end_time": "2021-05-17T13:18:31.849837Z",
     "start_time": "2021-05-17T13:18:31.469308Z"
    }
   },
   "outputs": [],
   "source": [
    "processing(\"EAG小额4.4-5.1 核对.xlsx\",\"匹配\",\"小额用户核对结果.xlsx\")"
   ]
  },
  {
   "cell_type": "code",
   "execution_count": null,
   "metadata": {},
   "outputs": [],
   "source": []
  }
 ],
 "metadata": {
  "kernelspec": {
   "display_name": "Python 3",
   "language": "python",
   "name": "python3"
  },
  "language_info": {
   "codemirror_mode": {
    "name": "ipython",
    "version": 3
   },
   "file_extension": ".py",
   "mimetype": "text/x-python",
   "name": "python",
   "nbconvert_exporter": "python",
   "pygments_lexer": "ipython3",
   "version": "3.7.4"
  },
  "latex_envs": {
   "LaTeX_envs_menu_present": true,
   "autoclose": false,
   "autocomplete": true,
   "bibliofile": "biblio.bib",
   "cite_by": "apalike",
   "current_citInitial": 1,
   "eqLabelWithNumbers": true,
   "eqNumInitial": 1,
   "hotkeys": {
    "equation": "Ctrl-E",
    "itemize": "Ctrl-I"
   },
   "labels_anchors": false,
   "latex_user_defs": false,
   "report_style_numbering": false,
   "user_envs_cfg": false
  },
  "toc": {
   "base_numbering": 1,
   "nav_menu": {},
   "number_sections": true,
   "sideBar": true,
   "skip_h1_title": false,
   "title_cell": "Table of Contents",
   "title_sidebar": "Contents",
   "toc_cell": false,
   "toc_position": {},
   "toc_section_display": true,
   "toc_window_display": false
  },
  "varInspector": {
   "cols": {
    "lenName": 16,
    "lenType": 16,
    "lenVar": 40
   },
   "kernels_config": {
    "python": {
     "delete_cmd_postfix": "",
     "delete_cmd_prefix": "del ",
     "library": "var_list.py",
     "varRefreshCmd": "print(var_dic_list())"
    },
    "r": {
     "delete_cmd_postfix": ") ",
     "delete_cmd_prefix": "rm(",
     "library": "var_list.r",
     "varRefreshCmd": "cat(var_dic_list()) "
    }
   },
   "types_to_exclude": [
    "module",
    "function",
    "builtin_function_or_method",
    "instance",
    "_Feature"
   ],
   "window_display": false
  }
 },
 "nbformat": 4,
 "nbformat_minor": 2
}
