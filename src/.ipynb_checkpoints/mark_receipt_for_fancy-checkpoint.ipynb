{
 "cells": [
  {
   "cell_type": "code",
   "execution_count": 2,
   "id": "lasting-catering",
   "metadata": {
    "ExecuteTime": {
     "end_time": "2021-02-26T04:17:38.869682Z",
     "start_time": "2021-02-26T04:17:38.864695Z"
    }
   },
   "outputs": [],
   "source": [
    "import os\n",
    "import pandas as pd\n",
    "import numpy as np\n",
    "import natsort\n",
    "pd.set_option('display.max_rows', None)\n",
    "from decimal import *\n",
    "getcontext().prec = 2\n",
    "\n",
    "import math"
   ]
  },
  {
   "cell_type": "code",
   "execution_count": 15,
   "id": "lucky-carry",
   "metadata": {
    "ExecuteTime": {
     "end_time": "2021-02-26T04:35:52.386063Z",
     "start_time": "2021-02-26T04:35:51.904325Z"
    }
   },
   "outputs": [
    {
     "data": {
      "text/plain": [
       "'Receipt No. PR084191:'"
      ]
     },
     "execution_count": 15,
     "metadata": {},
     "output_type": "execute_result"
    }
   ],
   "source": [
    "file = pd.read_excel('../../test/Purchase Invoice.xlsx',sheet_name  = 'Lines',skiprows=1)\n",
    "df = pd.DataFrame(file)\n",
    "df['Receipt Code'] = ['Empty'] * len(df)\n",
    "df['Description'][0]"
   ]
  },
  {
   "cell_type": "code",
   "execution_count": null,
   "id": "chicken-works",
   "metadata": {},
   "outputs": [],
   "source": [
    "i = 0\n",
    "while i < len(df):\n",
    "    if df['Description'][0].startswith('Receipt No.'):\n",
    "        # this is a starting point of a receipt\n",
    "        "
   ]
  }
 ],
 "metadata": {
  "kernelspec": {
   "display_name": "Python 3",
   "language": "python",
   "name": "python3"
  },
  "language_info": {
   "codemirror_mode": {
    "name": "ipython",
    "version": 3
   },
   "file_extension": ".py",
   "mimetype": "text/x-python",
   "name": "python",
   "nbconvert_exporter": "python",
   "pygments_lexer": "ipython3",
   "version": "3.9.1"
  },
  "latex_envs": {
   "LaTeX_envs_menu_present": true,
   "autoclose": false,
   "autocomplete": true,
   "bibliofile": "biblio.bib",
   "cite_by": "apalike",
   "current_citInitial": 1,
   "eqLabelWithNumbers": true,
   "eqNumInitial": 1,
   "hotkeys": {
    "equation": "Ctrl-E",
    "itemize": "Ctrl-I"
   },
   "labels_anchors": false,
   "latex_user_defs": false,
   "report_style_numbering": false,
   "user_envs_cfg": false
  },
  "varInspector": {
   "cols": {
    "lenName": 16,
    "lenType": 16,
    "lenVar": 40
   },
   "kernels_config": {
    "python": {
     "delete_cmd_postfix": "",
     "delete_cmd_prefix": "del ",
     "library": "var_list.py",
     "varRefreshCmd": "print(var_dic_list())"
    },
    "r": {
     "delete_cmd_postfix": ") ",
     "delete_cmd_prefix": "rm(",
     "library": "var_list.r",
     "varRefreshCmd": "cat(var_dic_list()) "
    }
   },
   "types_to_exclude": [
    "module",
    "function",
    "builtin_function_or_method",
    "instance",
    "_Feature"
   ],
   "window_display": false
  }
 },
 "nbformat": 4,
 "nbformat_minor": 5
}
