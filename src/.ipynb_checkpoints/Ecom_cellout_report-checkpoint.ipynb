{
 "cells": [
  {
   "cell_type": "code",
   "execution_count": 4,
   "id": "vietnamese-civilian",
   "metadata": {
    "ExecuteTime": {
     "end_time": "2021-03-11T03:55:50.738576Z",
     "start_time": "2021-03-11T03:55:50.731591Z"
    }
   },
   "outputs": [],
   "source": [
    "import os\n",
    "import pandas as pd\n",
    "import numpy as np\n",
    "import natsort\n",
    "pd.set_option('display.max_rows', None)\n",
    "from decimal import *\n",
    "getcontext().prec = 2\n",
    "\n",
    "from tkinter  import * \n",
    "import tkinter as tk\n",
    "import tkinter.messagebox as messagebox\n",
    "from functools import partial\n",
    "\n",
    "import gspread\n",
    "from oauth2client.service_account import ServiceAccountCredentials\n",
    "import math\n",
    "import time"
   ]
  },
  {
   "cell_type": "code",
   "execution_count": 5,
   "id": "quarterly-reduction",
   "metadata": {
    "ExecuteTime": {
     "end_time": "2021-03-11T03:55:51.538630Z",
     "start_time": "2021-03-11T03:55:51.531648Z"
    }
   },
   "outputs": [],
   "source": [
    "STORE_MAP = {\n",
    "    '-Fossil Tmall domestic watch flagship store' : 'Fossilwatch',\n",
    "    '-Fossil Tmall domestic Leather flagship store' : 'Fossilleather',\n",
    "    '-Fossil Tmall International Store ' : 'Fossil Tmall Intl.',\n",
    "    '-Emporio Armani Tmall domestic watch flagship store' : 'EAwatch',\n",
    "    '-Emporio Armani Tmall domestic jewelry flagship store' : 'EAJewelry',\n",
    "    '-Emporio Armani Tmall international watch flagship store' : 'EA Tmall Intl.',\n",
    "    '-Diesel Tmall domestic watch flagship store' : 'DZ',\n",
    "    '-Diesel Tmall international watch flagship store' : 'DZ Tmall Intl.',\n",
    "    '-Michael Kors Tmall domestic watch flagship store' : 'MK',\n",
    "    '-Michael Kors Tmall international watch flagship store' : 'MK Tmall Intl.',\n",
    "    '-AX Tmall domestic watch flagship store' : 'AX',\n",
    "    '-AX Tmall international watch flagship store' : 'AX Tmall Intl.',\n",
    "    '-Skagen Tmall domestic watch flagship store' : 'Skagen',\n",
    "    '-Puma Tmall domestic watch flagship store':'Puma',\n",
    "    '-Kate Spade Tmall domestic watch flagship store': 'Kate Spade',\n",
    "    '-WSI Tmall domestic watch flagship store' : 'WSI',\n",
    "    '-WSI Tmall international watch flagship store': 'WSI Tmall Intl.',\n",
    "    'TOTAL WSI WECHAT STORE - DIRECT' : 'WSI Wechat Store'\n",
    "}\n",
    "STORE_DICT = dict(zip(STORE_MAP.values(), STORE_MAP.keys()))"
   ]
  },
  {
   "cell_type": "code",
   "execution_count": 6,
   "id": "dominican-interim",
   "metadata": {
    "ExecuteTime": {
     "end_time": "2021-03-11T03:55:52.717684Z",
     "start_time": "2021-03-11T03:55:52.708706Z"
    }
   },
   "outputs": [],
   "source": [
    "DATE_MAP = {\n",
    "    'P1' : [1,2,3,4],\n",
    "    'P2' : [5,6,7,8],\n",
    "    'P3' : [9,10,11,12,13],\n",
    "    'P4' : [14,15,16,17],\n",
    "    'P5' : [18,19,20,21],\n",
    "    'P6' : [22,23,24,25,26],\n",
    "    'P7' : [27,28,29,30],\n",
    "    'P8' : [31,32,33,34],\n",
    "    'P9' : [35,36,37,38,39],\n",
    "    'P10': [40,41,42,43],\n",
    "    'P11': [44,45,46,47],\n",
    "    'P12': [48,49,50,51,52]\n",
    "}"
   ]
  },
  {
   "cell_type": "code",
   "execution_count": 7,
   "id": "numerous-return",
   "metadata": {
    "ExecuteTime": {
     "end_time": "2021-03-11T03:55:55.624968Z",
     "start_time": "2021-03-11T03:55:55.619982Z"
    }
   },
   "outputs": [],
   "source": [
    "def week_to_p(wk):\n",
    "    for p in DATE_MAP:\n",
    "        if wk in DATE_MAP.get(p):\n",
    "            return p"
   ]
  },
  {
   "cell_type": "code",
   "execution_count": 9,
   "id": "executive-internet",
   "metadata": {
    "ExecuteTime": {
     "end_time": "2021-03-11T03:57:16.757707Z",
     "start_time": "2021-03-11T03:57:12.948787Z"
    }
   },
   "outputs": [
    {
     "data": {
      "text/plain": [
       "'Fossil Total'"
      ]
     },
     "execution_count": 9,
     "metadata": {},
     "output_type": "execute_result"
    }
   ],
   "source": [
    "from __future__ import print_function\n",
    "import pickle\n",
    "import os.path\n",
    "from googleapiclient.discovery import build\n",
    "from google_auth_oauthlib.flow import InstalledAppFlow\n",
    "from google.auth.transport.requests import Request\n",
    "from google.oauth2 import service_account\n",
    "# If modifying these scopes, delete the file token.pickle.\n",
    "SCOPES = ['https://www.googleapis.com/auth/spreadsheets']\n",
    "# The ID and range of a sample spreadsheet.\n",
    "sheetid = '1S6dgcPNrU18_8xB7LJVfSUpJekKTP08yhJwomQbHmlY'\n",
    "p = week_to_p(27)\n",
    "letter = 'B'\n",
    "RANGE = '2021 ' + p + '!' + letter + '5:' + letter + '5'\n",
    "SERVICE_ACCOUNT_FILE = 'mycredentials.json'\n",
    "credentials = None\n",
    "credentials = service_account.Credentials.from_service_account_file(\n",
    "    SERVICE_ACCOUNT_FILE, scopes=SCOPES)\n",
    "\n",
    "service = build('sheets', 'v4', credentials=credentials)\n",
    "\n",
    "# Call the Sheets API\n",
    "sheet = service.spreadsheets()\n",
    "# result = sheet.values().get(spreadsheetId=sheetid, range=RANGE).execute()\n",
    "\n",
    "store_cell = '2021 ' + p + '!A' + str(8)+ ':A' + str(8)\n",
    "result = sheet.values().get(spreadsheetId=sheetid, range=store_cell).execute()\n",
    "values = result.get('values', [])\n",
    "store = values[0][0]\n",
    "store"
   ]
  },
  {
   "cell_type": "code",
   "execution_count": 10,
   "id": "higher-bullet",
   "metadata": {
    "ExecuteTime": {
     "end_time": "2021-03-11T03:57:55.316559Z",
     "start_time": "2021-03-11T03:57:55.307583Z"
    }
   },
   "outputs": [],
   "source": [
    "from __future__ import print_function\n",
    "import pickle\n",
    "import os.path\n",
    "from googleapiclient.discovery import build\n",
    "from google_auth_oauthlib.flow import InstalledAppFlow\n",
    "from google.auth.transport.requests import Request\n",
    "from google.oauth2 import service_account\n",
    "\n",
    "\n",
    "def update_sheet(cell,value,p):\n",
    "    SCOPES = ['https://www.googleapis.com/auth/spreadsheets']\n",
    "    # The ID and range of a sample spreadsheet.\n",
    "    sheetid = '1S6dgcPNrU18_8xB7LJVfSUpJekKTP08yhJwomQbHmlY'\n",
    "    RANGE = '2021 '+p+'!A5:O117'\n",
    "\n",
    "    SERVICE_ACCOUNT_FILE = 'mycredentials.json'\n",
    "    credentials = None\n",
    "    credentials = service_account.Credentials.from_service_account_file(\n",
    "        SERVICE_ACCOUNT_FILE, scopes=SCOPES)\n",
    "\n",
    "    service = build('sheets', 'v4', credentials=credentials)\n",
    "\n",
    "    # Call the Sheets API\n",
    "    sheet = service.spreadsheets()\n",
    "    result = sheet.values().get(spreadsheetId=sheetid, range=RANGE).execute()\n",
    "    values = result.get('values', [])\n",
    "    #     print(values)\n",
    "    if math.isnan(value):\n",
    "        value = 0\n",
    "    values = [[value]]\n",
    "    \n",
    "    body = {'values': values}\n",
    "    request = sheet.values().update(spreadsheetId=sheetid,\n",
    "                                    range=cell,\n",
    "                                    valueInputOption='USER_ENTERED',\n",
    "                                    body=body)\n",
    "    response = request.execute()\n",
    "\n",
    "    # TODO: Change code below to process the `response` dict:\n",
    "    print(response)"
   ]
  },
  {
   "cell_type": "code",
   "execution_count": 17,
   "id": "quarterly-process",
   "metadata": {
    "ExecuteTime": {
     "end_time": "2021-03-11T05:58:08.511090Z",
     "start_time": "2021-03-11T05:58:08.497123Z"
    }
   },
   "outputs": [],
   "source": [
    "def update_wk(wk_num):\n",
    "    SCOPES = ['https://www.googleapis.com/auth/spreadsheets']\n",
    "    # The ID and range of a sample spreadsheet.\n",
    "    sheetid = '1S6dgcPNrU18_8xB7LJVfSUpJekKTP08yhJwomQbHmlY'\n",
    "    p = week_to_p(wk_num)\n",
    "\n",
    "    SERVICE_ACCOUNT_FILE = 'mycredentials.json'\n",
    "    credentials = None\n",
    "    credentials = service_account.Credentials.from_service_account_file(\n",
    "        SERVICE_ACCOUNT_FILE, scopes=SCOPES)\n",
    "\n",
    "    service = build('sheets', 'v4', credentials=credentials)\n",
    "\n",
    "    # Call the Sheets API\n",
    "    sheet = service.spreadsheets()\n",
    "\n",
    "    file_21 = pd.read_excel('../../test/Direct draft for Ruiyang.xlsx',\n",
    "                            sheet_name='21',\n",
    "                            nrows=20)\n",
    "    file_20 = pd.read_excel('../../test/Direct draft for Ruiyang.xlsx',\n",
    "                            sheet_name='20',\n",
    "                            nrows=20)\n",
    "\n",
    "    df21 = pd.DataFrame(file_21)\n",
    "    df20 = pd.DataFrame(file_20)\n",
    "\n",
    "    for i in range(8, 40):\n",
    "        store_cell = '2021 '+p+'!A' + str(i) + ':A' + str(i)\n",
    "        #         count_cell = '2021 P2!E' + str(i) + ':E' + str(i)\n",
    "        result = sheet.values().get(spreadsheetId=sheetid,\n",
    "                                    range=store_cell).execute()\n",
    "        values = result.get('values', [])\n",
    "        store = values[0][0]\n",
    "        \n",
    "        if store in STORE_MAP:\n",
    "            offline_store = STORE_MAP[store]\n",
    "            index = df21[df21['2021 Net Sales'] == offline_store].index[0]\n",
    "\n",
    "            #             need to update online file from B to E or F\n",
    "            five_wk_p = ['P3', 'P6', 'P9', 'P12']\n",
    "            if p in five_wk_p:\n",
    "                column_letter = ['B', 'C', 'D', 'E', 'F']\n",
    "            else:\n",
    "                column_letter = ['B', 'C', 'D', 'E']\n",
    "            for letter in column_letter:\n",
    "                wk_cell = '2021 '+p+'!'+letter+'5:'+letter+'5'\n",
    "                temp_result = sheet.values().get(spreadsheetId=sheetid,\n",
    "                                                 range=wk_cell).execute()\n",
    "                temp_values = temp_result.get('values', [])\n",
    "                wk = temp_values[0][0]\n",
    "                # parameter wk is from online sheet.\\\n",
    "                if wk in df21:\n",
    "                    count = df21[wk][index]\n",
    "                    count_cell = '2021 ' + p + '!' + letter + str(\n",
    "                        i) + ':' + letter + str(i)\n",
    "                    update_sheet(count_cell, count, p)\n",
    "                else:\n",
    "                    continue\n",
    "        time.sleep(5)"
   ]
  },
  {
   "cell_type": "code",
   "execution_count": 18,
   "id": "together-worse",
   "metadata": {
    "ExecuteTime": {
     "end_time": "2021-03-11T05:58:09.148556Z",
     "start_time": "2021-03-11T05:58:09.129580Z"
    }
   },
   "outputs": [],
   "source": [
    "'''\n",
    "Also need 2021 QTD, and 2020 MTD QTD\n",
    "Directly import value of these from local file, value is counted by excel.\n",
    "2021 MTD is not needed, because it can be counted directly from online sheet.\n",
    "'''\n",
    "\n",
    "def update_td(wk_num):\n",
    "    SCOPES = ['https://www.googleapis.com/auth/spreadsheets']\n",
    "    # The ID and range of a sample spreadsheet.\n",
    "    sheetid = '1S6dgcPNrU18_8xB7LJVfSUpJekKTP08yhJwomQbHmlY'\n",
    "    p = week_to_p(wk_num)\n",
    "\n",
    "    SERVICE_ACCOUNT_FILE = 'mycredentials.json'\n",
    "    credentials = None\n",
    "    credentials = service_account.Credentials.from_service_account_file(\n",
    "        SERVICE_ACCOUNT_FILE, scopes=SCOPES)\n",
    "\n",
    "    service = build('sheets', 'v4', credentials=credentials)\n",
    "\n",
    "    # Call the Sheets API\n",
    "    sheet = service.spreadsheets()\n",
    "\n",
    "    file_21 = pd.read_excel('../../test/Direct draft for Ruiyang.xlsx',sheet_name = '21',nrows = 20)\n",
    "    file_20 = pd.read_excel('../../test/Direct draft for Ruiyang.xlsx',sheet_name = '20',nrows = 20)\n",
    "\n",
    "    df21 = pd.DataFrame(file_21)\n",
    "    df20 = pd.DataFrame(file_20)\n",
    "\n",
    "    five_wk_p = ['P3', 'P6', 'P9', 'P12']\n",
    "    if p in five_wk_p:\n",
    "        col_21_qtd = 'J'\n",
    "        col_21_mtd = 'G'\n",
    "        col_20_qtd = 'K'\n",
    "        col_20_mtd = 'H'\n",
    "        col_21_ytd = 'M'\n",
    "        col_20_ytd = 'N'\n",
    "    else:\n",
    "        col_21_qtd = 'I'\n",
    "        col_21_mtd = 'F'\n",
    "        col_20_qtd = 'J'\n",
    "        col_20_mtd = 'G'\n",
    "        col_21_ytd = 'L'\n",
    "        col_20_ytd = 'M'\n",
    "    for i in range(8,40):\n",
    "        store_cell = '2021 '+p+'!A' + str(i) + ':A' + str(i)\n",
    "        result = sheet.values().get(spreadsheetId=sheetid, range=store_cell).execute()\n",
    "        values = result.get('values', [])\n",
    "        store = values[0][0]\n",
    "        if store in STORE_MAP:\n",
    "            offline_store = STORE_MAP[store]\n",
    "            index_21 = df21[df21['2021 Net Sales'] == offline_store].index[0]\n",
    "            index_20 = df20[df20['2020 Net Sales'] == offline_store].index[0]\n",
    "            # first, update 2021 QTD\n",
    "            count_qtd_21 = df21['QTD'][index_21]\n",
    "            # 2021 QTD cell supose to always be in cell I? NONO\n",
    "            # Need to find the column of MTD and QTD.\n",
    "            # If P include 5 wk, then 21 QTD column is J, if not, I.\n",
    "            \n",
    "            qtd_21_cell = '2021 '+p+'!'+col_21_qtd+str(i)+':'+col_21_qtd+str(i)\n",
    "            update_sheet(qtd_21_cell, count_qtd_21,p)\n",
    "            \n",
    "            # then, update 2020 MTD,QTD\n",
    "            count_mtd_20 = df20['MTD'][index_20]\n",
    "            count_qtd_20 = df20['QTD'][index_20]\n",
    "            \n",
    "            mtd_20_cell = '2021 '+p+'!'+col_20_mtd+str(i)+':'+col_20_mtd+str(i)\n",
    "            qtd_20_cell = '2021 '+p+'!'+col_20_qtd+str(i)+':'+col_20_qtd+str(i)\n",
    "            update_sheet(mtd_20_cell, count_mtd_20,p)\n",
    "            update_sheet(qtd_20_cell, count_qtd_20,p)\n",
    "            \n",
    "            # update 2021 and 2020 YTD\n",
    "            count_21_cell = df['YTD'][index_21]\n",
    "            count_20_cell = df['YTD'][index_20]\n",
    "            \n",
    "            ytd_21_cell = '2021 '+p+'!'+col_21_ytd+str(i)+':'+col_21_ytd+str(i)\n",
    "            ytd_20_cell = '2021 '+p+'!'+col_20_ytd+str(i)+':'+col_20_ytd+str(i)\n",
    "            update_sheet(ytd_21_cell, count_ytd_21,p)\n",
    "            update_sheet(ytd_20_cell, count_ytd_20,p)\n",
    "        time.sleep(5)"
   ]
  },
  {
   "cell_type": "code",
   "execution_count": 22,
   "id": "alternate-butler",
   "metadata": {
    "ExecuteTime": {
     "end_time": "2021-03-11T05:59:10.656844Z",
     "start_time": "2021-03-11T05:58:54.586393Z"
    }
   },
   "outputs": [
    {
     "name": "stdout",
     "output_type": "stream",
     "text": [
      "{'spreadsheetId': '1S6dgcPNrU18_8xB7LJVfSUpJekKTP08yhJwomQbHmlY', 'updatedRange': \"'2021 P7'!B9\", 'updatedRows': 1, 'updatedColumns': 1, 'updatedCells': 1}\n"
     ]
    },
    {
     "ename": "KeyboardInterrupt",
     "evalue": "",
     "output_type": "error",
     "traceback": [
      "\u001b[1;31m---------------------------------------------------------------------------\u001b[0m",
      "\u001b[1;31mKeyboardInterrupt\u001b[0m                         Traceback (most recent call last)",
      "\u001b[1;32m<ipython-input-22-14c8f9a4a750>\u001b[0m in \u001b[0;36m<module>\u001b[1;34m\u001b[0m\n\u001b[0;32m      1\u001b[0m \u001b[1;31m# Test for wk\u001b[0m\u001b[1;33m\u001b[0m\u001b[1;33m\u001b[0m\u001b[1;33m\u001b[0m\u001b[0m\n\u001b[1;32m----> 2\u001b[1;33m \u001b[0mupdate_wk\u001b[0m\u001b[1;33m(\u001b[0m\u001b[1;36m27\u001b[0m\u001b[1;33m)\u001b[0m\u001b[1;33m\u001b[0m\u001b[1;33m\u001b[0m\u001b[0m\n\u001b[0m",
      "\u001b[1;32m<ipython-input-17-228517c2d6ea>\u001b[0m in \u001b[0;36mupdate_wk\u001b[1;34m(wk_num)\u001b[0m\n\u001b[0;32m     57\u001b[0m                 \u001b[1;32melse\u001b[0m\u001b[1;33m:\u001b[0m\u001b[1;33m\u001b[0m\u001b[1;33m\u001b[0m\u001b[0m\n\u001b[0;32m     58\u001b[0m                     \u001b[1;32mcontinue\u001b[0m\u001b[1;33m\u001b[0m\u001b[1;33m\u001b[0m\u001b[0m\n\u001b[1;32m---> 59\u001b[1;33m         \u001b[0mtime\u001b[0m\u001b[1;33m.\u001b[0m\u001b[0msleep\u001b[0m\u001b[1;33m(\u001b[0m\u001b[1;36m5\u001b[0m\u001b[1;33m)\u001b[0m\u001b[1;33m\u001b[0m\u001b[1;33m\u001b[0m\u001b[0m\n\u001b[0m",
      "\u001b[1;31mKeyboardInterrupt\u001b[0m: "
     ]
    }
   ],
   "source": [
    "# Test for wk\n",
    "update_wk(27)"
   ]
  },
  {
   "cell_type": "code",
   "execution_count": 20,
   "id": "academic-worse",
   "metadata": {
    "ExecuteTime": {
     "end_time": "2021-03-11T05:58:11.110107Z",
     "start_time": "2021-03-11T05:58:11.106117Z"
    }
   },
   "outputs": [],
   "source": [
    "# Test for td\n",
    "# update_td(27)"
   ]
  },
  {
   "cell_type": "code",
   "execution_count": 21,
   "id": "affecting-project",
   "metadata": {
    "ExecuteTime": {
     "end_time": "2021-03-11T05:58:36.696178Z",
     "start_time": "2021-03-11T05:58:32.619152Z"
    }
   },
   "outputs": [
    {
     "name": "stdout",
     "output_type": "stream",
     "text": [
      "Please enter the week number: 27\n"
     ]
    },
    {
     "ename": "TypeError",
     "evalue": "can only concatenate str (not \"NoneType\") to str",
     "output_type": "error",
     "traceback": [
      "\u001b[1;31m---------------------------------------------------------------------------\u001b[0m",
      "\u001b[1;31mTypeError\u001b[0m                                 Traceback (most recent call last)",
      "\u001b[1;32m<ipython-input-21-471f9186e853>\u001b[0m in \u001b[0;36m<module>\u001b[1;34m\u001b[0m\n\u001b[0;32m      6\u001b[0m \u001b[1;32mif\u001b[0m \u001b[0m__name__\u001b[0m \u001b[1;33m==\u001b[0m \u001b[1;34m\"__main__\"\u001b[0m\u001b[1;33m:\u001b[0m\u001b[1;33m\u001b[0m\u001b[1;33m\u001b[0m\u001b[0m\n\u001b[0;32m      7\u001b[0m     \u001b[0mwk\u001b[0m \u001b[1;33m=\u001b[0m \u001b[0minput\u001b[0m\u001b[1;33m(\u001b[0m\u001b[1;34m'Please enter the week number: '\u001b[0m\u001b[1;33m)\u001b[0m\u001b[1;33m\u001b[0m\u001b[1;33m\u001b[0m\u001b[0m\n\u001b[1;32m----> 8\u001b[1;33m     \u001b[0mmain\u001b[0m\u001b[1;33m(\u001b[0m\u001b[0mwk\u001b[0m\u001b[1;33m)\u001b[0m\u001b[1;33m\u001b[0m\u001b[1;33m\u001b[0m\u001b[0m\n\u001b[0m",
      "\u001b[1;32m<ipython-input-21-471f9186e853>\u001b[0m in \u001b[0;36mmain\u001b[1;34m(wk)\u001b[0m\n\u001b[0;32m      1\u001b[0m \u001b[1;31m# main function\u001b[0m\u001b[1;33m\u001b[0m\u001b[1;33m\u001b[0m\u001b[1;33m\u001b[0m\u001b[0m\n\u001b[0;32m      2\u001b[0m \u001b[1;32mdef\u001b[0m \u001b[0mmain\u001b[0m\u001b[1;33m(\u001b[0m\u001b[0mwk\u001b[0m\u001b[1;33m)\u001b[0m\u001b[1;33m:\u001b[0m\u001b[1;33m\u001b[0m\u001b[1;33m\u001b[0m\u001b[0m\n\u001b[1;32m----> 3\u001b[1;33m     \u001b[0mupdate_wk\u001b[0m\u001b[1;33m(\u001b[0m\u001b[0mwk\u001b[0m\u001b[1;33m)\u001b[0m\u001b[1;33m\u001b[0m\u001b[1;33m\u001b[0m\u001b[0m\n\u001b[0m\u001b[0;32m      4\u001b[0m     \u001b[0mupdate_td\u001b[0m\u001b[1;33m(\u001b[0m\u001b[0mwk\u001b[0m\u001b[1;33m)\u001b[0m\u001b[1;33m\u001b[0m\u001b[1;33m\u001b[0m\u001b[0m\n\u001b[0;32m      5\u001b[0m \u001b[1;33m\u001b[0m\u001b[0m\n",
      "\u001b[1;32m<ipython-input-17-228517c2d6ea>\u001b[0m in \u001b[0;36mupdate_wk\u001b[1;34m(wk_num)\u001b[0m\n\u001b[0;32m     26\u001b[0m \u001b[1;33m\u001b[0m\u001b[0m\n\u001b[0;32m     27\u001b[0m     \u001b[1;32mfor\u001b[0m \u001b[0mi\u001b[0m \u001b[1;32min\u001b[0m \u001b[0mrange\u001b[0m\u001b[1;33m(\u001b[0m\u001b[1;36m8\u001b[0m\u001b[1;33m,\u001b[0m \u001b[1;36m40\u001b[0m\u001b[1;33m)\u001b[0m\u001b[1;33m:\u001b[0m\u001b[1;33m\u001b[0m\u001b[1;33m\u001b[0m\u001b[0m\n\u001b[1;32m---> 28\u001b[1;33m         \u001b[0mstore_cell\u001b[0m \u001b[1;33m=\u001b[0m \u001b[1;34m'2021 '\u001b[0m\u001b[1;33m+\u001b[0m\u001b[0mp\u001b[0m\u001b[1;33m+\u001b[0m\u001b[1;34m'!A'\u001b[0m \u001b[1;33m+\u001b[0m \u001b[0mstr\u001b[0m\u001b[1;33m(\u001b[0m\u001b[0mi\u001b[0m\u001b[1;33m)\u001b[0m \u001b[1;33m+\u001b[0m \u001b[1;34m':A'\u001b[0m \u001b[1;33m+\u001b[0m \u001b[0mstr\u001b[0m\u001b[1;33m(\u001b[0m\u001b[0mi\u001b[0m\u001b[1;33m)\u001b[0m\u001b[1;33m\u001b[0m\u001b[1;33m\u001b[0m\u001b[0m\n\u001b[0m\u001b[0;32m     29\u001b[0m         \u001b[1;31m#         count_cell = '2021 P2!E' + str(i) + ':E' + str(i)\u001b[0m\u001b[1;33m\u001b[0m\u001b[1;33m\u001b[0m\u001b[1;33m\u001b[0m\u001b[0m\n\u001b[0;32m     30\u001b[0m         result = sheet.values().get(spreadsheetId=sheetid,\n",
      "\u001b[1;31mTypeError\u001b[0m: can only concatenate str (not \"NoneType\") to str"
     ]
    }
   ],
   "source": [
    "# main function\n",
    "def main(wk):\n",
    "    update_wk(wk)\n",
    "    update_td(wk)\n",
    "\n",
    "if __name__ == \"__main__\":\n",
    "    wk = input('Please enter the week number: ')\n",
    "    main(wk)"
   ]
  },
  {
   "cell_type": "code",
   "execution_count": null,
   "id": "english-worcester",
   "metadata": {},
   "outputs": [],
   "source": []
  }
 ],
 "metadata": {
  "kernelspec": {
   "display_name": "Python 3",
   "language": "python",
   "name": "python3"
  },
  "language_info": {
   "codemirror_mode": {
    "name": "ipython",
    "version": 3
   },
   "file_extension": ".py",
   "mimetype": "text/x-python",
   "name": "python",
   "nbconvert_exporter": "python",
   "pygments_lexer": "ipython3",
   "version": "3.9.1"
  },
  "latex_envs": {
   "LaTeX_envs_menu_present": true,
   "autoclose": false,
   "autocomplete": true,
   "bibliofile": "biblio.bib",
   "cite_by": "apalike",
   "current_citInitial": 1,
   "eqLabelWithNumbers": true,
   "eqNumInitial": 1,
   "hotkeys": {
    "equation": "Ctrl-E",
    "itemize": "Ctrl-I"
   },
   "labels_anchors": false,
   "latex_user_defs": false,
   "report_style_numbering": false,
   "user_envs_cfg": false
  },
  "varInspector": {
   "cols": {
    "lenName": 16,
    "lenType": 16,
    "lenVar": 40
   },
   "kernels_config": {
    "python": {
     "delete_cmd_postfix": "",
     "delete_cmd_prefix": "del ",
     "library": "var_list.py",
     "varRefreshCmd": "print(var_dic_list())"
    },
    "r": {
     "delete_cmd_postfix": ") ",
     "delete_cmd_prefix": "rm(",
     "library": "var_list.r",
     "varRefreshCmd": "cat(var_dic_list()) "
    }
   },
   "types_to_exclude": [
    "module",
    "function",
    "builtin_function_or_method",
    "instance",
    "_Feature"
   ],
   "window_display": false
  }
 },
 "nbformat": 4,
 "nbformat_minor": 5
}
